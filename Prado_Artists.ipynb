{
  "nbformat": 4,
  "nbformat_minor": 0,
  "metadata": {
    "colab": {
      "provenance": [],
      "collapsed_sections": [
        "jyowUsuDJFrk",
        "GGyQtP-3MAB2",
        "Pb6lEGuzKGD6",
        "qBn6tAjx39E7"
      ],
      "gpuType": "L4",
      "machine_shape": "hm",
      "authorship_tag": "ABX9TyOVAavV4rQsSEehWFzWq0xT",
      "include_colab_link": true
    },
    "kernelspec": {
      "name": "python3",
      "display_name": "Python 3"
    },
    "language_info": {
      "name": "python"
    },
    "accelerator": "GPU"
  },
  "cells": [
    {
      "cell_type": "markdown",
      "metadata": {
        "id": "view-in-github",
        "colab_type": "text"
      },
      "source": [
        "<a href=\"https://colab.research.google.com/github/giordanovitale/Prado-Museum-CNN/blob/main/Prado_Artists.ipynb\" target=\"_parent\"><img src=\"https://colab.research.google.com/assets/colab-badge.svg\" alt=\"Open In Colab\"/></a>"
      ]
    },
    {
      "cell_type": "markdown",
      "source": [
        "\n",
        "\n",
        "1.   [Data Augmentation Techniques](https://medium.com/ymedialabs-innovation/data-augmentation-techniques-in-cnn-using-tensorflow-371ae43d5be9#8be0)\n",
        "2.   [Model Architectures](https://medium.com/@navarai/unveiling-the-diversity-a-comprehensive-guide-to-types-of-cnn-architectures-9d70da0b4521)\n",
        "3. [EfficientNet](https://towardsdatascience.com/complete-architectural-details-of-all-efficientnet-models-5fd5b736142)"
      ],
      "metadata": {
        "id": "WbjcyTneoQAe"
      }
    },
    {
      "cell_type": "markdown",
      "source": [
        "Dataset Source: https://www.kaggle.com/datasets/maparla/prado-museum-pictures"
      ],
      "metadata": {
        "id": "wzU4x8i_tk_g"
      }
    },
    {
      "cell_type": "code",
      "source": [
        "gpu_info = !nvidia-smi\n",
        "gpu_info = '\\n'.join(gpu_info)\n",
        "if gpu_info.find('failed') >= 0:\n",
        "  print('Not connected to a GPU')\n",
        "else:\n",
        "  print(gpu_info)"
      ],
      "metadata": {
        "colab": {
          "base_uri": "https://localhost:8080/"
        },
        "id": "Wr2l9A-fBjHR",
        "outputId": "e2f28dbd-feea-4366-ecbf-c49131a481ac"
      },
      "execution_count": 1,
      "outputs": [
        {
          "output_type": "stream",
          "name": "stdout",
          "text": [
            "Mon Jun  3 07:35:52 2024       \n",
            "+---------------------------------------------------------------------------------------+\n",
            "| NVIDIA-SMI 535.104.05             Driver Version: 535.104.05   CUDA Version: 12.2     |\n",
            "|-----------------------------------------+----------------------+----------------------+\n",
            "| GPU  Name                 Persistence-M | Bus-Id        Disp.A | Volatile Uncorr. ECC |\n",
            "| Fan  Temp   Perf          Pwr:Usage/Cap |         Memory-Usage | GPU-Util  Compute M. |\n",
            "|                                         |                      |               MIG M. |\n",
            "|=========================================+======================+======================|\n",
            "|   0  NVIDIA L4                      Off | 00000000:00:03.0 Off |                    0 |\n",
            "| N/A   51C    P8              13W /  72W |      1MiB / 23034MiB |      0%      Default |\n",
            "|                                         |                      |                  N/A |\n",
            "+-----------------------------------------+----------------------+----------------------+\n",
            "                                                                                         \n",
            "+---------------------------------------------------------------------------------------+\n",
            "| Processes:                                                                            |\n",
            "|  GPU   GI   CI        PID   Type   Process name                            GPU Memory |\n",
            "|        ID   ID                                                             Usage      |\n",
            "|=======================================================================================|\n",
            "|  No running processes found                                                           |\n",
            "+---------------------------------------------------------------------------------------+\n"
          ]
        }
      ]
    },
    {
      "cell_type": "markdown",
      "source": [
        "# 0 - Load the necessary libraries"
      ],
      "metadata": {
        "id": "o8R_We7Bjw9d"
      }
    },
    {
      "cell_type": "code",
      "source": [
        "!pip install visualkeras"
      ],
      "metadata": {
        "id": "jGdZM9PWK_Yy",
        "colab": {
          "base_uri": "https://localhost:8080/"
        },
        "outputId": "e729b70e-ad13-4456-b229-194a81a571bc"
      },
      "execution_count": 2,
      "outputs": [
        {
          "output_type": "stream",
          "name": "stdout",
          "text": [
            "Collecting visualkeras\n",
            "  Downloading visualkeras-0.0.2-py3-none-any.whl (12 kB)\n",
            "Requirement already satisfied: pillow>=6.2.0 in /usr/local/lib/python3.10/dist-packages (from visualkeras) (9.4.0)\n",
            "Requirement already satisfied: numpy>=1.18.1 in /usr/local/lib/python3.10/dist-packages (from visualkeras) (1.25.2)\n",
            "Collecting aggdraw>=1.3.11 (from visualkeras)\n",
            "  Downloading aggdraw-1.3.18.post0-cp310-cp310-manylinux_2_17_x86_64.manylinux2014_x86_64.whl (993 kB)\n",
            "\u001b[2K     \u001b[90m━━━━━━━━━━━━━━━━━━━━━━━━━━━━━━━━━━━━━━━━\u001b[0m \u001b[32m993.8/993.8 kB\u001b[0m \u001b[31m21.4 MB/s\u001b[0m eta \u001b[36m0:00:00\u001b[0m\n",
            "\u001b[?25hInstalling collected packages: aggdraw, visualkeras\n",
            "Successfully installed aggdraw-1.3.18.post0 visualkeras-0.0.2\n"
          ]
        }
      ]
    },
    {
      "cell_type": "code",
      "execution_count": 37,
      "metadata": {
        "id": "7FrmpviCjilL"
      },
      "outputs": [],
      "source": [
        "import pandas as pd\n",
        "import numpy as np\n",
        "import seaborn as sns\n",
        "import tensorflow as tf\n",
        "import polars as pl\n",
        "\n",
        "import tqdm\n",
        "import os\n",
        "import requests\n",
        "\n",
        "from multiprocessing import cpu_count\n",
        "from multiprocessing.pool import ThreadPool\n",
        "import visualkeras as vk\n",
        "\n",
        "from scipy.optimize import fsolve\n",
        "from math import exp\n",
        "import matplotlib.pyplot as plt\n",
        "\n",
        "from collections import defaultdict\n",
        "\n",
        "from google.colab import userdata\n",
        "\n",
        "import keras.backend as K\n",
        "from keras.layers import Layer\n",
        "from tensorflow.keras import Sequential, Model\n",
        "from tensorflow.keras.layers import Dense, Flatten, Conv2D, MaxPooling2D, \\\n",
        "    AveragePooling2D, BatchNormalization, ReLU, PReLU, ZeroPadding2D, \\\n",
        "    GlobalAveragePooling2D, Input, DepthwiseConv2D, Add, Activation, Lambda, RandomFlip, \\\n",
        "    Rescaling, RandomContrast, RandomZoom, RandomRotation, Dropout\n",
        "from tensorflow.keras.optimizers import Adam\n",
        "from tensorflow.keras.losses import SparseCategoricalCrossentropy\n",
        "from tensorflow.keras.callbacks import CSVLogger\n",
        "from tensorflow.keras.applications.resnet_v2 import ResNet50V2\n",
        "from tensorflow.keras.applications.resnet_v2 import preprocess_input as resnet_v2_preproccessing\n",
        "from tensorflow.keras.applications.efficientnet_v2 import preprocess_input as efficientnet_preproccessing\n",
        "from tensorflow.keras.applications.efficientnet_v2 import EfficientNetV2B3\n",
        "from tensorflow.keras.applications.vgg19 import VGG19\n",
        "from tensorflow.keras.applications.vgg19 import preprocess_input as vgg_preproccessing\n",
        "from tensorflow.keras.applications.mobilenet_v2 import MobileNetV2\n",
        "from tensorflow.keras.applications.mobilenet_v2 import preprocess_input as mobilenet_preprocessing\n",
        "\n",
        "# Get rid of the extra stuff that gets downloaded\n",
        "!rm -rf sample_data"
      ]
    },
    {
      "cell_type": "code",
      "source": [
        "from tensorflow.keras import mixed_precision\n",
        "mixed_precision.set_global_policy('mixed_float16')"
      ],
      "metadata": {
        "id": "O6SEyC7YCZni"
      },
      "execution_count": 4,
      "outputs": []
    },
    {
      "cell_type": "code",
      "source": [
        "INPUT_SHAPE = (224,224,3)"
      ],
      "metadata": {
        "id": "O4u7vtjkI7bk"
      },
      "execution_count": 5,
      "outputs": []
    },
    {
      "cell_type": "markdown",
      "source": [
        "# 1 - Helper Functions"
      ],
      "metadata": {
        "id": "L8kbFRoYj3BI"
      }
    },
    {
      "cell_type": "markdown",
      "source": [
        "## 1.1 - Custom functions for parallel downloading"
      ],
      "metadata": {
        "id": "mWDEZZd6KVW5"
      }
    },
    {
      "cell_type": "code",
      "source": [
        "def download_url(args):\n",
        "    \"\"\"\n",
        "    Downloads a file from an url\n",
        "    :param args: Tuple containing the url and filename\n",
        "    :return: None\n",
        "    \"\"\"\n",
        "    url, filename = args[0], args[1]\n",
        "    try:\n",
        "      r = requests.get(url)\n",
        "      if r.status_code != 404:\n",
        "        with open(filename, \"wb\") as f:\n",
        "          f.write(r.content)\n",
        "\n",
        "    except Exception as e:\n",
        "      print(\"Exception in download_url():\", e)"
      ],
      "metadata": {
        "id": "OYyBBIO-jvgM"
      },
      "execution_count": null,
      "outputs": []
    },
    {
      "cell_type": "code",
      "source": [
        "def download_parallel(args):\n",
        "    \"\"\"\n",
        "    Downloads urls in parallel\n",
        "    :param args: List of tuples containing the url and filename\n",
        "    :return: None\n",
        "    \"\"\"\n",
        "    cpus = cpu_count()\n",
        "    threadpool = ThreadPool(cpus)\n",
        "    with tqdm.tqdm(total=len(args), desc=\"Downloading images\") as pbar:\n",
        "        for _ in threadpool.imap_unordered(download_url, args):\n",
        "            pbar.update(1)\n",
        "    threadpool.close()\n",
        "    threadpool.join()"
      ],
      "metadata": {
        "id": "6lOeid62TQSE"
      },
      "execution_count": null,
      "outputs": []
    },
    {
      "cell_type": "markdown",
      "source": [
        "## 1.2 - Custom function for visualizing the model performance"
      ],
      "metadata": {
        "id": "XEmzkeFNKa8R"
      }
    },
    {
      "cell_type": "code",
      "source": [
        "custom_params = {\"axes.spines.right\": False, \"axes.spines.top\": False}\n",
        "sns.set_theme(style=\"whitegrid\", rc=custom_params)"
      ],
      "metadata": {
        "id": "dL-SrveFKgdA"
      },
      "execution_count": 22,
      "outputs": []
    },
    {
      "cell_type": "code",
      "source": [
        "def plot_history(history, figsize=(12,6), y_lim_left=(0,1), y_lim_right=(0,1.02)):\n",
        "    \"\"\"\n",
        "    Plots the loss and accuracy curves.\n",
        "    :param df: the data frame containing the histories we want to plot\n",
        "    :param y_lim: Tuple. If not differently specified, it's (0,1). Only applies to the accuracy plot.\n",
        "    :return: None\n",
        "    \"\"\"\n",
        "    fig, ax = plt.subplots(figsize=figsize, nrows=1, ncols=2)\n",
        "\n",
        "\n",
        "    # Plot Loss\n",
        "    sns.lineplot(data=history,\n",
        "                 x=\"epoch\",\n",
        "                 y=\"val_loss\",\n",
        "                 ax=ax[0],\n",
        "                 label=\"Validation Loss\",\n",
        "                 linewidth=2,\n",
        "                 color=\"#25bdf0\")\n",
        "\n",
        "    sns.lineplot(data=history,\n",
        "                 x=\"epoch\",\n",
        "                 y=\"loss\",\n",
        "                 ax=ax[0],\n",
        "                 label=\"Training Loss\",\n",
        "                 linewidth=2,\n",
        "                 color=\"#78ba41\")\n",
        "\n",
        "    # Plot Accuracy\n",
        "    sns.lineplot(data=history,\n",
        "                 x=\"epoch\",\n",
        "                 y=\"val_accuracy\",\n",
        "                 ax=ax[1],\n",
        "                 label=\"Validation Accuracy\",\n",
        "                 linewidth=2,\n",
        "                 color=\"#25bdf0\")\n",
        "\n",
        "    sns.lineplot(data=history,\n",
        "                 x=\"epoch\",\n",
        "                 y=\"accuracy\",\n",
        "                 ax=ax[1],\n",
        "                 label=\"Training Accuracy\",\n",
        "                 linewidth=2,\n",
        "                 color=\"#78ba41\")\n",
        "\n",
        "    ax[0].set_xlabel(\"Epochs\")\n",
        "    ax[0].set_ylabel(\"Categorical Crossentropy\")\n",
        "    ax[0].set_title(\"Training Loss vs Validation Loss\")\n",
        "    ax[0].set_ylim(y_lim_left)\n",
        "    ax[0].legend()\n",
        "\n",
        "    ax[1].set_xlabel(\"Epochs\")\n",
        "    ax[1].set_ylabel(\"Accuracy (%)\")\n",
        "    ax[1].set_title(\"Training Accuracy vs Validation Accuracy\")\n",
        "    ax[1].set_ylim(y_lim_right)\n",
        "    ax[1].legend(loc=\"lower right\")\n",
        "\n",
        "    plt.show()"
      ],
      "metadata": {
        "id": "TZP_Ln6YKhDT"
      },
      "execution_count": 23,
      "outputs": []
    },
    {
      "cell_type": "markdown",
      "source": [
        "## 1.3 - Learning rate scheduler."
      ],
      "metadata": {
        "id": "YKfQ1RjNU5Jp"
      }
    },
    {
      "cell_type": "code",
      "source": [
        "def scheduler(epoch, lr):\n",
        "    \"\"\"\n",
        "    Creates schedule to obtain an exponential decay of the learning rate\n",
        "    :param epoch: Int. Epoch at which we start the decay of the learning rate\n",
        "    :param lr: Float Learning rate for the optimiser\n",
        "    :return: Learning rate for a given epoch\n",
        "    \"\"\"\n",
        "    if epoch < 10:\n",
        "        return lr\n",
        "    else:\n",
        "        return lr * tf.math.exp(-0.05)"
      ],
      "metadata": {
        "id": "P-t0jsXPU72m"
      },
      "execution_count": 51,
      "outputs": []
    },
    {
      "cell_type": "markdown",
      "source": [
        "# 2 - Load the dataset using Kaggle API"
      ],
      "metadata": {
        "id": "MaMrNaJvoe2O"
      }
    },
    {
      "cell_type": "markdown",
      "source": [
        "My Username and Key have been secreted. Replace `userdata.get('KAGGLE_USERNAME')` and `userdata.get('KAGGLE_KEY')`with your username and key, respectively."
      ],
      "metadata": {
        "id": "wZrGs5uD2s0Q"
      }
    },
    {
      "cell_type": "code",
      "source": [
        "os.environ[\"KAGGLE_USERNAME\"] = \"userdata.get('KAGGLE_USERNAME')\"\n",
        "os.environ[\"KAGGLE_KEY\"] = \"userdata.get('KAGGLE_KEY')\"\n",
        "!kaggle datasets download maparla/prado-museum-pictures -f prado.csv\n",
        "!unzip prado.csv.zip"
      ],
      "metadata": {
        "colab": {
          "base_uri": "https://localhost:8080/"
        },
        "id": "WBj68-vEvZLa",
        "outputId": "266da22e-bd25-45ae-b228-240215006eca"
      },
      "execution_count": 6,
      "outputs": [
        {
          "output_type": "stream",
          "name": "stdout",
          "text": [
            "Dataset URL: https://www.kaggle.com/datasets/maparla/prado-museum-pictures\n",
            "License(s): MIT\n",
            "Downloading prado.csv.zip to /content\n",
            " 93% 17.0M/18.3M [00:02<00:00, 14.5MB/s]\n",
            "100% 18.3M/18.3M [00:02<00:00, 9.18MB/s]\n",
            "Archive:  prado.csv.zip\n",
            "  inflating: prado.csv               \n"
          ]
        }
      ]
    },
    {
      "cell_type": "markdown",
      "source": [
        "Create the dataframe from the unzipepd csv file."
      ],
      "metadata": {
        "id": "RZ4NWN4a26ui"
      }
    },
    {
      "cell_type": "code",
      "source": [
        "df = pd.read_csv(os.path.join(\"prado.csv\"))"
      ],
      "metadata": {
        "id": "FRAesYqqwHCr"
      },
      "execution_count": 7,
      "outputs": []
    },
    {
      "cell_type": "markdown",
      "source": [
        "Since no target class has been defined from the project assignment, I have to decide it. After a careful inspection of the columns, I found out that the more suitable ones are `author` and `technical_sheet_tecnica`. The latter seems more intriguing as it has more observations, thus being more suitable to big data algorithms."
      ],
      "metadata": {
        "id": "d60cuROa2-o1"
      }
    },
    {
      "cell_type": "code",
      "source": [
        "df['author'].value_counts()"
      ],
      "metadata": {
        "colab": {
          "base_uri": "https://localhost:8080/"
        },
        "id": "wKYs7m-XwOyB",
        "outputId": "f441ad4e-9d91-4c6f-f5dd-94acd095c2d1"
      },
      "execution_count": null,
      "outputs": [
        {
          "output_type": "execute_result",
          "data": {
            "text/plain": [
              "author\n",
              "Anónimo                                                                       2698\n",
              "Goya y Lucientes, Francisco de                                                1080\n",
              "Bayeu y Subías, Francisco                                                      446\n",
              "Haes, Carlos de                                                                326\n",
              "Pizarro y Librado, Cecilio                                                     290\n",
              "                                                                              ... \n",
              "Malombra, Pietro                                                                 1\n",
              "Taller de Bellini, Giovanni                                                      1\n",
              "Mattioli, Ludovico -Dibujante- (Autor de la obra original: Cignani, Carlo)       1\n",
              "Ricci, Marco                                                                     1\n",
              "García, Sergio                                                                   1\n",
              "Name: count, Length: 2560, dtype: int64"
            ]
          },
          "metadata": {},
          "execution_count": 141
        }
      ]
    },
    {
      "cell_type": "code",
      "source": [
        "df['technical_sheet_tecnica'].value_counts().sort_values(ascending=False)[:10]"
      ],
      "metadata": {
        "colab": {
          "base_uri": "https://localhost:8080/"
        },
        "id": "ZD4-MW-bwPga",
        "outputId": "15f34df9-309d-4242-f7ef-e76c6c0bda4b"
      },
      "execution_count": null,
      "outputs": [
        {
          "output_type": "stream",
          "name": "stdout",
          "text": [
            "Exception in download_url(): [Errno 2] No such file or directory: 'data/pencil/59825391-c4b9-4f84-8d6f-413fa045a3ea.jpg'\n"
          ]
        },
        {
          "output_type": "execute_result",
          "data": {
            "text/plain": [
              "technical_sheet_tecnica\n",
              "Óleo                    4156\n",
              "Acuñación               1118\n",
              "Esculpido                550\n",
              "Lápiz compuesto          476\n",
              "Clarión; Lápiz negro     396\n",
              "Albúmina                 395\n",
              "Sanguina                 372\n",
              "Lápiz                    259\n",
              "Lápiz negro              237\n",
              "Pluma; Tinta parda       214\n",
              "Name: count, dtype: int64"
            ]
          },
          "metadata": {},
          "execution_count": 142
        }
      ]
    },
    {
      "cell_type": "markdown",
      "source": [
        "Reduce the data set by keeping observations belonging to the 4 classes of interest only."
      ],
      "metadata": {
        "id": "RaNVQhcOcjAR"
      }
    },
    {
      "cell_type": "code",
      "source": [
        "df = df[df['technical_sheet_tecnica'].isin(['Óleo',\n",
        "                                            'Acuñación',\n",
        "                                            'Esculpido',\n",
        "                                            'Lápiz compuesto'])]"
      ],
      "metadata": {
        "id": "JjRARJodH5or"
      },
      "execution_count": 8,
      "outputs": []
    },
    {
      "cell_type": "code",
      "source": [
        "df.shape"
      ],
      "metadata": {
        "colab": {
          "base_uri": "https://localhost:8080/"
        },
        "id": "B467V520Iwcn",
        "outputId": "ade3207b-4d2c-4c2d-86fd-c08dc99ef0b5"
      },
      "execution_count": null,
      "outputs": [
        {
          "output_type": "execute_result",
          "data": {
            "text/plain": [
              "(6300, 30)"
            ]
          },
          "metadata": {},
          "execution_count": 7
        }
      ]
    },
    {
      "cell_type": "markdown",
      "source": [
        "In order to obtain the JPGs images, we need to start from the given URL column `work_image_url`."
      ],
      "metadata": {
        "id": "0iHqoZHs4btw"
      }
    },
    {
      "cell_type": "code",
      "source": [
        "df['work_id'] = df['work_image_url'].apply(lambda x: x.split('/')[-1])"
      ],
      "metadata": {
        "id": "bvORo-571oOX"
      },
      "execution_count": 9,
      "outputs": []
    },
    {
      "cell_type": "markdown",
      "source": [
        "Create the folders into which the images will be stored, according to their respective class."
      ],
      "metadata": {
        "id": "GO_mspTpBiTf"
      }
    },
    {
      "cell_type": "markdown",
      "source": [
        "The important columns are:\n",
        "`['work_image_url', 'work_id', 'technical_sheet_tecnica']`"
      ],
      "metadata": {
        "id": "FC_ZTuARczzZ"
      }
    },
    {
      "cell_type": "code",
      "source": [
        "!mkdir model_logs"
      ],
      "metadata": {
        "id": "1i5NdKk6dNVq"
      },
      "execution_count": 11,
      "outputs": []
    },
    {
      "cell_type": "code",
      "source": [
        "!mkdir data"
      ],
      "metadata": {
        "id": "NvXIGlFrRsRR"
      },
      "execution_count": null,
      "outputs": []
    },
    {
      "cell_type": "code",
      "source": [
        "esp_techniques = ['Óleo', 'Acuñación', 'Esculpido', 'Lápiz compuesto']\n",
        "eng_techniques = ['oil', 'minting', 'sculpture', 'pencil']"
      ],
      "metadata": {
        "id": "0MzHBZFvTgpP"
      },
      "execution_count": 10,
      "outputs": []
    },
    {
      "cell_type": "code",
      "source": [
        "# rm -rf data"
      ],
      "metadata": {
        "id": "95J0G6lWUtRU"
      },
      "execution_count": null,
      "outputs": []
    },
    {
      "cell_type": "code",
      "source": [
        "for technique in eng_techniques:\n",
        "  !mkdir -p data/$technique"
      ],
      "metadata": {
        "id": "dUdTNYO1RzSa"
      },
      "execution_count": null,
      "outputs": []
    },
    {
      "cell_type": "code",
      "source": [],
      "metadata": {
        "id": "mJAjz_Hfczwj"
      },
      "execution_count": null,
      "outputs": []
    },
    {
      "cell_type": "code",
      "source": [],
      "metadata": {
        "id": "BF5ZPrAEeEHL"
      },
      "execution_count": null,
      "outputs": []
    },
    {
      "cell_type": "code",
      "source": [],
      "metadata": {
        "id": "05d-eS5ynl5V"
      },
      "execution_count": null,
      "outputs": []
    },
    {
      "cell_type": "code",
      "source": [
        "download_list = list()\n",
        "\n",
        "for esp_technique, eng_technique in zip(esp_techniques, eng_techniques):\n",
        "\n",
        "  image_urls = list(df['work_image_url'].loc[df['technical_sheet_tecnica'] == esp_technique])\n",
        "  image_names = list(df['work_id'].loc[df['technical_sheet_tecnica'] == esp_technique])\n",
        "  image_names = [f\"data/{eng_technique}/\" + fn for fn in image_names]\n",
        "\n",
        "  for url, fn in zip(image_urls, image_names):\n",
        "    download_list.append((url, fn))"
      ],
      "metadata": {
        "id": "LgleWlJtoExf"
      },
      "execution_count": null,
      "outputs": []
    },
    {
      "cell_type": "code",
      "source": [],
      "metadata": {
        "id": "mI9BfgmV9S9p"
      },
      "execution_count": null,
      "outputs": []
    },
    {
      "cell_type": "code",
      "source": [
        "len(download_list)"
      ],
      "metadata": {
        "colab": {
          "base_uri": "https://localhost:8080/"
        },
        "id": "gbWz_pknorCZ",
        "outputId": "e762ca34-9391-46a0-fa12-d6aba06b3008"
      },
      "execution_count": null,
      "outputs": [
        {
          "output_type": "execute_result",
          "data": {
            "text/plain": [
              "6300"
            ]
          },
          "metadata": {},
          "execution_count": 32
        }
      ]
    },
    {
      "cell_type": "code",
      "source": [
        "download_parallel(download_list)"
      ],
      "metadata": {
        "colab": {
          "base_uri": "https://localhost:8080/"
        },
        "id": "wFc2YbyFosxg",
        "outputId": "2482bb73-b580-431d-c268-9472a00254e8"
      },
      "execution_count": null,
      "outputs": [
        {
          "output_type": "stream",
          "name": "stderr",
          "text": [
            "Downloading images: 100%|██████████| 6300/6300 [2:03:55<00:00,  1.18s/it]\n"
          ]
        }
      ]
    },
    {
      "cell_type": "markdown",
      "source": [
        "## Class Imbalance"
      ],
      "metadata": {
        "id": "Z_MTwn-YQ37H"
      }
    },
    {
      "cell_type": "markdown",
      "source": [
        "https://www.tensorflow.org/tutorials/structured_data/imbalanced_data#class_weights"
      ],
      "metadata": {
        "id": "McYkNoNiMZ40"
      }
    },
    {
      "cell_type": "code",
      "source": [
        "num_oils = df.loc[df['technical_sheet_tecnica']=='Óleo'].shape[0]\n",
        "num_mintings = df.loc[df['technical_sheet_tecnica']=='Acuñación'].shape[0]\n",
        "num_sculptures = df.loc[df['technical_sheet_tecnica']=='Esculpido'].shape[0]\n",
        "num_pencils = df.loc[df['technical_sheet_tecnica']=='Lápiz compuesto'].shape[0]\n",
        "\n",
        "num_total = df.shape[0]"
      ],
      "metadata": {
        "id": "Ds6y2fbTMz9w"
      },
      "execution_count": 12,
      "outputs": []
    },
    {
      "cell_type": "code",
      "source": [
        "class_weights = {\n",
        "    0: num_oils/num_total,\n",
        "    1: num_mintings/num_total,\n",
        "    2: num_sculptures/num_total,\n",
        "    3: num_pencils/num_total\n",
        "}\n",
        "\n",
        "class_weights"
      ],
      "metadata": {
        "colab": {
          "base_uri": "https://localhost:8080/"
        },
        "id": "VDE6xgiyMCSn",
        "outputId": "7adbd168-8b89-4083-90d9-ff3168f45de3"
      },
      "execution_count": 13,
      "outputs": [
        {
          "output_type": "execute_result",
          "data": {
            "text/plain": [
              "{0: 0.6596825396825396,\n",
              " 1: 0.17746031746031746,\n",
              " 2: 0.0873015873015873,\n",
              " 3: 0.07555555555555556}"
            ]
          },
          "metadata": {},
          "execution_count": 13
        }
      ]
    },
    {
      "cell_type": "markdown",
      "source": [
        "# 3 - Temporarily use loaded data and mount"
      ],
      "metadata": {
        "id": "_XcEZWRU7j8b"
      }
    },
    {
      "cell_type": "code",
      "source": [
        "import os\n",
        "import sys\n",
        "from google.colab import drive\n",
        "\n",
        "drive.mount('/content/drive')\n",
        "os.chdir(\"/content/drive/MyDrive/AMD\")\n",
        "!ls"
      ],
      "metadata": {
        "colab": {
          "base_uri": "https://localhost:8080/"
        },
        "id": "drTVncya7sQf",
        "outputId": "c4bd187b-3cc2-48f9-ed8f-ca7379def72f"
      },
      "execution_count": 14,
      "outputs": [
        {
          "output_type": "stream",
          "name": "stdout",
          "text": [
            "Mounted at /content/drive\n",
            "data  model_logs  Prado-Artists.ipynb  prado.csv  prado.csv.zip\n"
          ]
        }
      ]
    },
    {
      "cell_type": "code",
      "source": [
        "train_ds, test_ds = tf.keras.utils.image_dataset_from_directory('/content/drive/MyDrive/AMD/data',\n",
        "                                                                label_mode='int',\n",
        "                                                                color_mode='rgb',\n",
        "                                                                batch_size=32,\n",
        "                                                                image_size=(224, 224),\n",
        "                                                                shuffle=True,\n",
        "                                                                seed=42,\n",
        "                                                                validation_split=0.2,\n",
        "                                                                subset='both',\n",
        "                                                                labels='inferred',\n",
        "                                                                class_names=['oil', 'minting', 'sculpture', 'pencil'])"
      ],
      "metadata": {
        "colab": {
          "base_uri": "https://localhost:8080/"
        },
        "id": "5c6x1p8SEav6",
        "outputId": "082d8c3b-beeb-4147-e93d-2a16d8f30bde"
      },
      "execution_count": 15,
      "outputs": [
        {
          "output_type": "stream",
          "name": "stdout",
          "text": [
            "Found 5935 files belonging to 4 classes.\n",
            "Using 4748 files for training.\n",
            "Using 1187 files for validation.\n"
          ]
        }
      ]
    },
    {
      "cell_type": "code",
      "source": [
        "# Function to count the number of samples per class\n",
        "def count_classes(dataset):\n",
        "    class_counts = {}\n",
        "    for images, labels in dataset:\n",
        "        for label in labels.numpy():\n",
        "            if label in class_counts:\n",
        "                class_counts[label] += 1\n",
        "            else:\n",
        "                class_counts[label] = 1\n",
        "    return class_counts\n",
        "\n",
        "# Count classes in the training and validation datasets\n",
        "train_class_counts = count_classes(train_ds)\n",
        "test_class_counts = count_classes(test_ds)\n",
        "\n",
        "# Print the counts\n",
        "class_names = ['oil', 'minting', 'sculpture', 'pencil']\n",
        "print(\"Training set class distribution:\")\n",
        "for i, count in train_class_counts.items():\n",
        "    print(f\"{class_names[i]}: {count}\")\n",
        "\n",
        "print(\"\\nTest set class distribution:\")\n",
        "for i, count in test_class_counts.items():\n",
        "    print(f\"{class_names[i]}: {count}\")\n"
      ],
      "metadata": {
        "colab": {
          "base_uri": "https://localhost:8080/"
        },
        "id": "1IKhOC2mge9z",
        "outputId": "8157ec0f-45ce-48db-ef59-cb62b1254c36"
      },
      "execution_count": 99,
      "outputs": [
        {
          "output_type": "stream",
          "name": "stdout",
          "text": [
            "Training set class distribution:\n",
            "oil: 3150\n",
            "minting: 916\n",
            "pencil: 360\n",
            "sculpture: 322\n",
            "\n",
            "Test set class distribution:\n",
            "oil: 792\n",
            "sculpture: 78\n",
            "minting: 202\n",
            "pencil: 115\n"
          ]
        }
      ]
    },
    {
      "cell_type": "markdown",
      "source": [
        "\n",
        "\n",
        "---\n",
        "\n"
      ],
      "metadata": {
        "id": "22noSiIqKM3u"
      }
    },
    {
      "cell_type": "markdown",
      "source": [
        "https://www.tensorflow.org/tutorials/images/data_augmentation"
      ],
      "metadata": {
        "id": "dhN1PODLEN6k"
      }
    },
    {
      "cell_type": "markdown",
      "source": [
        "From the link above:\n",
        "\n",
        "> Note: Data augmentation is inactive at test time so input images will only be augmented during calls to Model.fit (not Model.evaluate or Model.predict).\n",
        "\n"
      ],
      "metadata": {
        "id": "eoZ2PpzPGKbK"
      }
    },
    {
      "cell_type": "code",
      "source": [
        "num_classes = 4"
      ],
      "metadata": {
        "id": "-lewV5opGf1U"
      },
      "execution_count": 16,
      "outputs": []
    },
    {
      "cell_type": "markdown",
      "source": [
        "- Larger kernels capture larger features, while smaller kernels capture finer details.\n",
        "- The number of filters determines how many different types of features the network can detect at that layer. More filters allow for a richer and more diverse set of feature detections.\n",
        "\n",
        "\n",
        "> These two parameters are independent but work together to shape the features that the Conv2D layer will extract from the input image.\n",
        "\n"
      ],
      "metadata": {
        "id": "mHyLRyK9XznA"
      }
    },
    {
      "cell_type": "markdown",
      "source": [
        "***"
      ],
      "metadata": {
        "id": "hNe5_9epKOcJ"
      }
    },
    {
      "cell_type": "markdown",
      "source": [
        "# 4 - First Model: ZFNet"
      ],
      "metadata": {
        "id": "jyowUsuDJFrk"
      }
    },
    {
      "cell_type": "code",
      "source": [
        "zfnet = Sequential([\n",
        "\n",
        "    # Preprocessing layers\n",
        "    tf.keras.layers.Rescaling(1./255,\n",
        "                              input_shape=INPUT_SHAPE,\n",
        "                              name='rescaling'),\n",
        "    tf.keras.layers.RandomFlip(mode='horizontal_and_vertical',\n",
        "                               input_shape=INPUT_SHAPE,\n",
        "                               name='Random_Horizontal_And_Vertical_Flip'),\n",
        "    tf.keras.layers.RandomRotation(factor=0.2,\n",
        "                                   input_shape=INPUT_SHAPE,\n",
        "                                   name='Random_Rotation'),\n",
        "    tf.keras.layers.RandomContrast(factor=0.2,\n",
        "                                   input_shape=INPUT_SHAPE,\n",
        "                                   name='Random_Contrast'),\n",
        "    tf.keras.layers.RandomZoom(height_factor=(-0.2, -0.1),\n",
        "                               input_shape=INPUT_SHAPE,\n",
        "                               name='Random_Zoom'),\n",
        "\n",
        "\n",
        "    # 1st convolutional block\n",
        "    Conv2D(filters=48,\n",
        "           kernel_size=(7,7),\n",
        "           strides=(2,2),\n",
        "           padding='valid',\n",
        "           activation=None,\n",
        "           name='Conv_1'),\n",
        "    ReLU(name='ReLU_1'),\n",
        "    MaxPooling2D(pool_size=(3,3),\n",
        "                 strides=(2,2),\n",
        "                 padding='valid',\n",
        "                 name='Max_Pooling_1'),\n",
        "\n",
        "    # 2nd convolutional block\n",
        "    Conv2D(filters=128,\n",
        "           kernel_size=(3,3),\n",
        "           strides=(2,2),\n",
        "           padding='valid',\n",
        "           activation=None,\n",
        "           name='Conv_2'),\n",
        "    ReLU(name='ReLU_2'),\n",
        "    MaxPooling2D(pool_size=(3,3),\n",
        "                 strides=(2,2),\n",
        "                 padding='valid',\n",
        "                 name='Max_Pooling_2'),\n",
        "\n",
        "    # 3rd convolutional block\n",
        "    Conv2D(filters=192,\n",
        "           kernel_size=(3,3),\n",
        "           strides=(1,1),\n",
        "           padding='valid',\n",
        "           activation=None,\n",
        "           name='Conv_3.1'),\n",
        "    ReLU(name='ReLU_3.1'),\n",
        "    Conv2D(filters=384,\n",
        "           kernel_size=(3,3),\n",
        "           strides=(1,1),\n",
        "           padding='valid',\n",
        "           activation=None,\n",
        "           name='Conv_3.2'),\n",
        "    ReLU(name='ReLU_3.2'),\n",
        "    Conv2D(filters=192,\n",
        "           kernel_size=(3,3),\n",
        "           strides=(1,1),\n",
        "           padding='valid',\n",
        "           activation=None,\n",
        "           name='Conv_3.3'),\n",
        "    ReLU(name='ReLU_3.3'),\n",
        "    MaxPooling2D(pool_size=(3,3),\n",
        "                 strides=(2,2),\n",
        "                 padding='valid',\n",
        "                 name='Max_Pooling_3'),\n",
        "\n",
        "    # Flatten Layer\n",
        "    Flatten(name='Flatten'),\n",
        "\n",
        "    # 1st Dense Layer\n",
        "    Dense(units=256,\n",
        "          activation='relu',\n",
        "          name='Dense_1'),\n",
        "\n",
        "    # 2nd Dense Layer\n",
        "    Dense(units=256,\n",
        "          activation='relu',\n",
        "          name='Dense_2'),\n",
        "\n",
        "    # 3rd Dense Layer\n",
        "    Dense(units=num_classes,\n",
        "          activation='softmax',\n",
        "          name=\"Output\")\n",
        "],\n",
        "    name='ZFNet')"
      ],
      "metadata": {
        "id": "dPhZ7yTvo9TT"
      },
      "execution_count": 28,
      "outputs": []
    },
    {
      "cell_type": "code",
      "source": [
        "zfnet.build(input_shape=(None, *INPUT_SHAPE))\n",
        "zfnet.summary()"
      ],
      "metadata": {
        "colab": {
          "base_uri": "https://localhost:8080/"
        },
        "id": "87NX1WgU35jU",
        "outputId": "8b9ac5a3-0974-4963-c635-62ac81b6a87e"
      },
      "execution_count": 29,
      "outputs": [
        {
          "output_type": "stream",
          "name": "stdout",
          "text": [
            "Model: \"ZFNet\"\n",
            "_________________________________________________________________\n",
            " Layer (type)                Output Shape              Param #   \n",
            "=================================================================\n",
            " rescaling (Rescaling)       (None, 224, 224, 3)       0         \n",
            "                                                                 \n",
            " Random_Horizontal_And_Vert  (None, 224, 224, 3)       0         \n",
            " ical_Flip (RandomFlip)                                          \n",
            "                                                                 \n",
            " Random_Rotation (RandomRot  (None, 224, 224, 3)       0         \n",
            " ation)                                                          \n",
            "                                                                 \n",
            " Random_Contrast (RandomCon  (None, 224, 224, 3)       0         \n",
            " trast)                                                          \n",
            "                                                                 \n",
            " Random_Zoom (RandomZoom)    (None, 224, 224, 3)       0         \n",
            "                                                                 \n",
            " Conv_1 (Conv2D)             (None, 109, 109, 48)      7104      \n",
            "                                                                 \n",
            " ReLU_1 (ReLU)               (None, 109, 109, 48)      0         \n",
            "                                                                 \n",
            " Max_Pooling_1 (MaxPooling2  (None, 54, 54, 48)        0         \n",
            " D)                                                              \n",
            "                                                                 \n",
            " Conv_2 (Conv2D)             (None, 26, 26, 128)       55424     \n",
            "                                                                 \n",
            " ReLU_2 (ReLU)               (None, 26, 26, 128)       0         \n",
            "                                                                 \n",
            " Max_Pooling_2 (MaxPooling2  (None, 12, 12, 128)       0         \n",
            " D)                                                              \n",
            "                                                                 \n",
            " Conv_3.1 (Conv2D)           (None, 10, 10, 192)       221376    \n",
            "                                                                 \n",
            " ReLU_3.1 (ReLU)             (None, 10, 10, 192)       0         \n",
            "                                                                 \n",
            " Conv_3.2 (Conv2D)           (None, 8, 8, 384)         663936    \n",
            "                                                                 \n",
            " ReLU_3.2 (ReLU)             (None, 8, 8, 384)         0         \n",
            "                                                                 \n",
            " Conv_3.3 (Conv2D)           (None, 6, 6, 192)         663744    \n",
            "                                                                 \n",
            " ReLU_3.3 (ReLU)             (None, 6, 6, 192)         0         \n",
            "                                                                 \n",
            " Max_Pooling_3 (MaxPooling2  (None, 2, 2, 192)         0         \n",
            " D)                                                              \n",
            "                                                                 \n",
            " Flatten (Flatten)           (None, 768)               0         \n",
            "                                                                 \n",
            " Dense_1 (Dense)             (None, 256)               196864    \n",
            "                                                                 \n",
            " Dense_2 (Dense)             (None, 256)               65792     \n",
            "                                                                 \n",
            " Output (Dense)              (None, 4)                 1028      \n",
            "                                                                 \n",
            "=================================================================\n",
            "Total params: 1875268 (7.15 MB)\n",
            "Trainable params: 1875268 (7.15 MB)\n",
            "Non-trainable params: 0 (0.00 Byte)\n",
            "_________________________________________________________________\n"
          ]
        }
      ]
    },
    {
      "cell_type": "markdown",
      "source": [
        "Model compiling."
      ],
      "metadata": {
        "id": "54ThNT8aK3Yo"
      }
    },
    {
      "cell_type": "code",
      "source": [
        "zfnet.compile(loss=SparseCategoricalCrossentropy(),\n",
        "              optimizer=Adam(),\n",
        "              metrics=[\"accuracy\"])"
      ],
      "metadata": {
        "id": "jNQQIG-yJ_Dc"
      },
      "execution_count": 30,
      "outputs": []
    },
    {
      "cell_type": "markdown",
      "source": [
        "Create csv logger to save the results in case it stops."
      ],
      "metadata": {
        "id": "_rE5T_4bK5Qt"
      }
    },
    {
      "cell_type": "code",
      "source": [
        "zfnet_csv_logger = CSVLogger(\"/content/drive/MyDrive/AMD/model_logs/zfnet.log\")"
      ],
      "metadata": {
        "id": "Z4iXDMXhKZ6E"
      },
      "execution_count": 31,
      "outputs": []
    },
    {
      "cell_type": "markdown",
      "source": [
        "Train the model."
      ],
      "metadata": {
        "id": "nvReb7aZK9Oe"
      }
    },
    {
      "cell_type": "code",
      "source": [
        "zfnet_history = zfnet.fit(train_ds,\n",
        "                          epochs=30,\n",
        "                          steps_per_epoch=len(train_ds),\n",
        "                          validation_data=test_ds,\n",
        "                          validation_steps=len(test_ds),\n",
        "                          class_weight=class_weights,\n",
        "                          callbacks=zfnet_csv_logger)"
      ],
      "metadata": {
        "id": "Ft1tUhCWK_j7",
        "colab": {
          "base_uri": "https://localhost:8080/"
        },
        "outputId": "cf9ca761-b5b4-4b4e-e486-91f442923351"
      },
      "execution_count": 32,
      "outputs": [
        {
          "output_type": "stream",
          "name": "stdout",
          "text": [
            "Epoch 1/30\n",
            "149/149 [==============================] - 37s 201ms/step - loss: 0.1805 - accuracy: 0.6670 - val_loss: 0.6757 - val_accuracy: 0.7178\n",
            "Epoch 2/30\n",
            "149/149 [==============================] - 33s 210ms/step - loss: 0.1401 - accuracy: 0.6805 - val_loss: 0.5699 - val_accuracy: 0.6950\n",
            "Epoch 3/30\n",
            "149/149 [==============================] - 33s 210ms/step - loss: 0.0909 - accuracy: 0.7917 - val_loss: 0.3907 - val_accuracy: 0.9233\n",
            "Epoch 4/30\n",
            "149/149 [==============================] - 33s 209ms/step - loss: 0.0859 - accuracy: 0.8452 - val_loss: 0.4318 - val_accuracy: 0.8298\n",
            "Epoch 5/30\n",
            "149/149 [==============================] - 33s 213ms/step - loss: 0.0555 - accuracy: 0.8789 - val_loss: 0.2112 - val_accuracy: 0.9427\n",
            "Epoch 6/30\n",
            "149/149 [==============================] - 33s 214ms/step - loss: 0.0589 - accuracy: 0.8797 - val_loss: 0.3690 - val_accuracy: 0.8660\n",
            "Epoch 7/30\n",
            "149/149 [==============================] - 33s 209ms/step - loss: 0.0399 - accuracy: 0.9037 - val_loss: 0.2070 - val_accuracy: 0.9436\n",
            "Epoch 8/30\n",
            "149/149 [==============================] - 33s 210ms/step - loss: 0.0395 - accuracy: 0.9078 - val_loss: 0.2784 - val_accuracy: 0.8618\n",
            "Epoch 9/30\n",
            "149/149 [==============================] - 33s 210ms/step - loss: 0.0388 - accuracy: 0.9170 - val_loss: 0.2356 - val_accuracy: 0.9242\n",
            "Epoch 10/30\n",
            "149/149 [==============================] - 33s 210ms/step - loss: 0.0389 - accuracy: 0.9155 - val_loss: 0.1766 - val_accuracy: 0.9469\n",
            "Epoch 11/30\n",
            "149/149 [==============================] - 33s 215ms/step - loss: 0.0308 - accuracy: 0.9425 - val_loss: 0.3591 - val_accuracy: 0.8509\n",
            "Epoch 12/30\n",
            "149/149 [==============================] - 33s 214ms/step - loss: 0.0365 - accuracy: 0.9195 - val_loss: 0.1180 - val_accuracy: 0.9621\n",
            "Epoch 13/30\n",
            "149/149 [==============================] - 33s 213ms/step - loss: 0.0319 - accuracy: 0.9461 - val_loss: 0.1273 - val_accuracy: 0.9596\n",
            "Epoch 14/30\n",
            "149/149 [==============================] - 33s 213ms/step - loss: 0.0744 - accuracy: 0.8915 - val_loss: 0.2936 - val_accuracy: 0.9014\n",
            "Epoch 15/30\n",
            "149/149 [==============================] - 33s 213ms/step - loss: 0.0380 - accuracy: 0.8983 - val_loss: 0.1727 - val_accuracy: 0.9031\n",
            "Epoch 16/30\n",
            "149/149 [==============================] - 33s 213ms/step - loss: 0.0275 - accuracy: 0.9425 - val_loss: 0.2331 - val_accuracy: 0.9377\n",
            "Epoch 17/30\n",
            "149/149 [==============================] - 33s 214ms/step - loss: 0.0256 - accuracy: 0.9522 - val_loss: 0.4168 - val_accuracy: 0.8955\n",
            "Epoch 18/30\n",
            "149/149 [==============================] - 33s 213ms/step - loss: 0.0322 - accuracy: 0.9330 - val_loss: 0.2112 - val_accuracy: 0.9090\n",
            "Epoch 19/30\n",
            "149/149 [==============================] - 33s 215ms/step - loss: 0.0266 - accuracy: 0.9440 - val_loss: 0.1288 - val_accuracy: 0.9596\n",
            "Epoch 20/30\n",
            "149/149 [==============================] - 33s 214ms/step - loss: 0.0291 - accuracy: 0.9431 - val_loss: 0.1496 - val_accuracy: 0.9419\n",
            "Epoch 21/30\n",
            "149/149 [==============================] - 33s 211ms/step - loss: 0.0203 - accuracy: 0.9629 - val_loss: 0.0940 - val_accuracy: 0.9730\n",
            "Epoch 22/30\n",
            "149/149 [==============================] - 33s 213ms/step - loss: 0.0309 - accuracy: 0.9406 - val_loss: 0.1471 - val_accuracy: 0.9486\n",
            "Epoch 23/30\n",
            "149/149 [==============================] - 33s 211ms/step - loss: 0.0210 - accuracy: 0.9638 - val_loss: 0.1354 - val_accuracy: 0.9553\n",
            "Epoch 24/30\n",
            "149/149 [==============================] - 33s 213ms/step - loss: 0.0204 - accuracy: 0.9625 - val_loss: 0.1196 - val_accuracy: 0.9714\n",
            "Epoch 25/30\n",
            "149/149 [==============================] - 33s 214ms/step - loss: 0.0213 - accuracy: 0.9589 - val_loss: 0.1222 - val_accuracy: 0.9612\n",
            "Epoch 26/30\n",
            "149/149 [==============================] - 33s 209ms/step - loss: 0.0187 - accuracy: 0.9688 - val_loss: 0.0833 - val_accuracy: 0.9730\n",
            "Epoch 27/30\n",
            "149/149 [==============================] - 33s 214ms/step - loss: 0.0188 - accuracy: 0.9682 - val_loss: 0.1020 - val_accuracy: 0.9747\n",
            "Epoch 28/30\n",
            "149/149 [==============================] - 33s 213ms/step - loss: 0.0206 - accuracy: 0.9642 - val_loss: 0.1528 - val_accuracy: 0.9486\n",
            "Epoch 29/30\n",
            "149/149 [==============================] - 33s 211ms/step - loss: 0.0220 - accuracy: 0.9579 - val_loss: 0.2262 - val_accuracy: 0.9174\n",
            "Epoch 30/30\n",
            "149/149 [==============================] - 34s 216ms/step - loss: 0.0214 - accuracy: 0.9661 - val_loss: 0.1837 - val_accuracy: 0.9292\n"
          ]
        }
      ]
    },
    {
      "cell_type": "markdown",
      "source": [
        "Visualize the architecture."
      ],
      "metadata": {
        "id": "Zyanw4giPWvk"
      }
    },
    {
      "cell_type": "code",
      "source": [
        "color_map = defaultdict(dict)\n",
        "\n",
        "# Assign the same color to all the preprocessing steps\n",
        "color_map[Rescaling][\"fill\"] = \"#3785CD\"\n",
        "color_map[RandomFlip][\"fill\"] = \"#3785CD\"\n",
        "color_map[RandomRotation][\"fill\"] = \"#3785CD\"\n",
        "color_map[RandomContrast][\"fill\"] = \"#3785CD\"\n",
        "color_map[RandomZoom][\"fill\"] = \"#3785CD\"\n",
        "color_map[Lambda][\"fill\"] = \"#3785CD\"\n",
        "\n",
        "\n",
        "color_map[AveragePooling2D][\"fill\"] = \"#25bdf0\"\n",
        "color_map[Dense][\"fill\"] = \"#78ba41\"\n",
        "\n",
        "vk.layered_view(zfnet,\n",
        "                legend=True,\n",
        "                scale_xy=2,\n",
        "                scale_z=.01,\n",
        "                type_ignore=[Rescaling, RandomFlip, RandomRotation, RandomContrast,\n",
        "                RandomZoom, Lambda],\n",
        "                color_map=color_map\n",
        "                )"
      ],
      "metadata": {
        "colab": {
          "base_uri": "https://localhost:8080/",
          "height": 344
        },
        "id": "CxMKFtQ2PYlx",
        "outputId": "f1075b1d-bedc-4bab-bc28-95c5e1f9dbae"
      },
      "execution_count": 33,
      "outputs": [
        {
          "output_type": "execute_result",
          "data": {
            "text/plain": [
              "<PIL.Image.Image image mode=RGBA size=560x327>"
            ],
            "image/png": "[encoded data removed]"
          },
          "metadata": {},
          "execution_count": 33
        }
      ]
    },
    {
      "cell_type": "markdown",
      "source": [
        "Visualize its performance."
      ],
      "metadata": {
        "id": "TBFAxYTEPY54"
      }
    },
    {
      "cell_type": "code",
      "source": [
        "zfnet_history = pd.read_csv(\"/content/drive/MyDrive/AMD/model_logs/zfnet.log\")\n",
        "plot_history(zfnet_history)"
      ],
      "metadata": {
        "colab": {
          "base_uri": "https://localhost:8080/",
          "height": 573
        },
        "id": "nhvTM2gkPmYw",
        "outputId": "47b4ae01-5216-4a87-b4f8-0f0249422883"
      },
      "execution_count": 35,
      "outputs": [
        {
          "output_type": "display_data",
          "data": {
            "text/plain": [
              "<Figure size 1200x600 with 2 Axes>"
            ],
            "image/png": "[encoded data removed]"
          },
          "metadata": {}
        }
      ]
    },
    {
      "cell_type": "markdown",
      "source": [
        "# 5 - Second Model: GioNet"
      ],
      "metadata": {
        "id": "GGyQtP-3MAB2"
      }
    },
    {
      "cell_type": "code",
      "source": [
        "gionet = Sequential([\n",
        "\n",
        "    # Preprocessing layers\n",
        "    tf.keras.layers.Rescaling(1./255,\n",
        "                              input_shape=INPUT_SHAPE,\n",
        "                              name='Rescaling'),\n",
        "    tf.keras.layers.RandomFlip(mode='horizontal_and_vertical',\n",
        "                               input_shape=INPUT_SHAPE,\n",
        "                               name='Random_Horizontal_And_Vertical_Flip'),\n",
        "    tf.keras.layers.RandomRotation(factor=0.2,\n",
        "                                   input_shape=INPUT_SHAPE,\n",
        "                                   name='Random_Rotation'),\n",
        "    tf.keras.layers.RandomContrast(factor=0.2,\n",
        "                                   input_shape=INPUT_SHAPE,\n",
        "                                   name='Random_Contrast'),\n",
        "    tf.keras.layers.RandomZoom(height_factor=(-0.2, -0.1),\n",
        "                               input_shape=INPUT_SHAPE,\n",
        "                               name='Random_Zoom'),\n",
        "    tf.keras.layers.Lambda(function=tf.image.per_image_standardization,\n",
        "                           name=\"Per_image_standardisation\"),\n",
        "\n",
        "\n",
        "    # 1st convolutional block\n",
        "    Conv2D(filters=224,\n",
        "           kernel_size=(3,3),\n",
        "           strides=(2,2),\n",
        "           padding='same',\n",
        "           activation=None,\n",
        "           name='Conv_1'),\n",
        "    ReLU(name='ReLU_1'),\n",
        "    AveragePooling2D(pool_size=(3,3),\n",
        "                     strides=(2,2),\n",
        "                     padding='same',\n",
        "                     name='Avg_Pooling_1'),\n",
        "\n",
        "\n",
        "    # 2nd convolutional block\n",
        "    Conv2D(filters=112,\n",
        "           kernel_size=(3,3),\n",
        "           strides=(2,2),\n",
        "           padding='same',\n",
        "           activation=None,\n",
        "           name='Conv_2'),\n",
        "    ReLU(name='ReLU_2'),\n",
        "    AveragePooling2D(pool_size=(3,3),\n",
        "                     strides=(2,2),\n",
        "                     padding='same',\n",
        "                     name='Avg_Pooling_2'),\n",
        "\n",
        "    # 3rd convolutional block\n",
        "    Conv2D(filters=56,\n",
        "           kernel_size=(3,3),\n",
        "           strides=(2,2),\n",
        "           padding='same',\n",
        "           activation=None,\n",
        "           name='Conv_3'),\n",
        "    ReLU(name='ReLU_3'),\n",
        "    AveragePooling2D(pool_size=(3,3),\n",
        "                     strides=(2,2),\n",
        "                     padding='same',\n",
        "                     name='Avg_Pooling_3'),\n",
        "\n",
        "    # 4th convolutional block\n",
        "    Conv2D(filters=28,\n",
        "           kernel_size=(5,5),\n",
        "           strides=(1,1),\n",
        "           padding='same',\n",
        "           activation=None,\n",
        "           name='Conv_4.1'),\n",
        "    ReLU(name='ReLU_4.1'),\n",
        "    Conv2D(filters=28,\n",
        "           kernel_size=(5,5),\n",
        "           strides=(1,1),\n",
        "           padding='same',\n",
        "           activation=None,\n",
        "           name='Conv_4.2'),\n",
        "    ReLU(name='ReLU_4.2'),\n",
        "    AveragePooling2D(pool_size=(3,3),\n",
        "                     strides=(2,2),\n",
        "                     padding='valid',\n",
        "                     name='Avg_Pooling_4'),\n",
        "\n",
        "    # Flatten Layer\n",
        "    Flatten(name='Flatten'),\n",
        "\n",
        "    # 1st Dense Layer\n",
        "    Dense(units=64,\n",
        "          activation='relu',\n",
        "          name='Dense_1'),\n",
        "\n",
        "    # 2nd Dense Layer\n",
        "    Dense(units=num_classes,\n",
        "          activation='softmax',\n",
        "          name=\"Output\")\n",
        "],\n",
        "    name='GioNet')"
      ],
      "metadata": {
        "id": "kTEd89JBEqyz"
      },
      "execution_count": 17,
      "outputs": []
    },
    {
      "cell_type": "code",
      "source": [
        "gionet.build(input_shape=(None, *INPUT_SHAPE))\n",
        "gionet.summary()"
      ],
      "metadata": {
        "id": "DYPt3WdIv2B2",
        "colab": {
          "base_uri": "https://localhost:8080/"
        },
        "outputId": "ac2d7a7a-f7ce-43e7-c3f0-3c6f7bd6b03e"
      },
      "execution_count": 18,
      "outputs": [
        {
          "output_type": "stream",
          "name": "stdout",
          "text": [
            "Model: \"GioNet\"\n",
            "_________________________________________________________________\n",
            " Layer (type)                Output Shape              Param #   \n",
            "=================================================================\n",
            " Rescaling (Rescaling)       (None, 224, 224, 3)       0         \n",
            "                                                                 \n",
            " Random_Horizontal_And_Vert  (None, 224, 224, 3)       0         \n",
            " ical_Flip (RandomFlip)                                          \n",
            "                                                                 \n",
            " Random_Rotation (RandomRot  (None, 224, 224, 3)       0         \n",
            " ation)                                                          \n",
            "                                                                 \n",
            " Random_Contrast (RandomCon  (None, 224, 224, 3)       0         \n",
            " trast)                                                          \n",
            "                                                                 \n",
            " Random_Zoom (RandomZoom)    (None, 224, 224, 3)       0         \n",
            "                                                                 \n",
            " Per_image_standardisation   (None, 224, 224, 3)       0         \n",
            " (Lambda)                                                        \n",
            "                                                                 \n",
            " Conv_1 (Conv2D)             (None, 112, 112, 224)     6272      \n",
            "                                                                 \n",
            " ReLU_1 (ReLU)               (None, 112, 112, 224)     0         \n",
            "                                                                 \n",
            " Avg_Pooling_1 (AveragePool  (None, 56, 56, 224)       0         \n",
            " ing2D)                                                          \n",
            "                                                                 \n",
            " Conv_2 (Conv2D)             (None, 28, 28, 112)       225904    \n",
            "                                                                 \n",
            " ReLU_2 (ReLU)               (None, 28, 28, 112)       0         \n",
            "                                                                 \n",
            " Avg_Pooling_2 (AveragePool  (None, 14, 14, 112)       0         \n",
            " ing2D)                                                          \n",
            "                                                                 \n",
            " Conv_3 (Conv2D)             (None, 7, 7, 56)          56504     \n",
            "                                                                 \n",
            " ReLU_3 (ReLU)               (None, 7, 7, 56)          0         \n",
            "                                                                 \n",
            " Avg_Pooling_3 (AveragePool  (None, 4, 4, 56)          0         \n",
            " ing2D)                                                          \n",
            "                                                                 \n",
            " Conv_4.1 (Conv2D)           (None, 4, 4, 28)          39228     \n",
            "                                                                 \n",
            " ReLU_4.1 (ReLU)             (None, 4, 4, 28)          0         \n",
            "                                                                 \n",
            " Conv_4.2 (Conv2D)           (None, 4, 4, 28)          19628     \n",
            "                                                                 \n",
            " ReLU_4.2 (ReLU)             (None, 4, 4, 28)          0         \n",
            "                                                                 \n",
            " Avg_Pooling_4 (AveragePool  (None, 1, 1, 28)          0         \n",
            " ing2D)                                                          \n",
            "                                                                 \n",
            " Flatten (Flatten)           (None, 28)                0         \n",
            "                                                                 \n",
            " Dense_1 (Dense)             (None, 64)                1856      \n",
            "                                                                 \n",
            " Output (Dense)              (None, 4)                 260       \n",
            "                                                                 \n",
            "=================================================================\n",
            "Total params: 349652 (1.33 MB)\n",
            "Trainable params: 349652 (1.33 MB)\n",
            "Non-trainable params: 0 (0.00 Byte)\n",
            "_________________________________________________________________\n"
          ]
        }
      ]
    },
    {
      "cell_type": "markdown",
      "source": [
        "Compile the model"
      ],
      "metadata": {
        "id": "l4KZU8Bfv7u1"
      }
    },
    {
      "cell_type": "code",
      "source": [
        "gionet.compile(loss=SparseCategoricalCrossentropy(),\n",
        "               optimizer=Adam(),\n",
        "               metrics=['accuracy'])"
      ],
      "metadata": {
        "id": "si8p-R4Sv9U9"
      },
      "execution_count": 19,
      "outputs": []
    },
    {
      "cell_type": "markdown",
      "source": [
        "CSV logger in case it stops."
      ],
      "metadata": {
        "id": "Uwf3LuWowV-3"
      }
    },
    {
      "cell_type": "code",
      "source": [
        "gionet_csv_logger = CSVLogger(\"/content/drive/MyDrive/AMD/model_logs/gionet.log\")"
      ],
      "metadata": {
        "id": "x9ZpkVvdwXuF"
      },
      "execution_count": 20,
      "outputs": []
    },
    {
      "cell_type": "markdown",
      "source": [
        "Train the model."
      ],
      "metadata": {
        "id": "dggLpZbpxFpO"
      }
    },
    {
      "cell_type": "code",
      "source": [
        "gionet_history = gionet.fit(train_ds,\n",
        "                            epochs=30,\n",
        "                            steps_per_epoch=len(train_ds),\n",
        "                            validation_data=test_ds,\n",
        "                            validation_steps=len(test_ds),\n",
        "                            class_weight=class_weights,\n",
        "                            callbacks=gionet_csv_logger)"
      ],
      "metadata": {
        "colab": {
          "base_uri": "https://localhost:8080/"
        },
        "id": "U1Lpc0ylxHDW",
        "outputId": "c69faf75-42a4-4400-84ab-6cc679202704"
      },
      "execution_count": 21,
      "outputs": [
        {
          "output_type": "stream",
          "name": "stdout",
          "text": [
            "Epoch 1/30\n",
            "149/149 [==============================] - 915s 6s/step - loss: 0.1154 - accuracy: 0.7761 - val_loss: 0.3937 - val_accuracy: 0.8425\n",
            "Epoch 2/30\n",
            "149/149 [==============================] - 33s 211ms/step - loss: 0.0432 - accuracy: 0.8962 - val_loss: 0.4770 - val_accuracy: 0.8526\n",
            "Epoch 3/30\n",
            "149/149 [==============================] - 33s 209ms/step - loss: 0.0328 - accuracy: 0.9280 - val_loss: 0.2766 - val_accuracy: 0.8997\n",
            "Epoch 4/30\n",
            "149/149 [==============================] - 33s 213ms/step - loss: 0.0292 - accuracy: 0.9370 - val_loss: 0.2711 - val_accuracy: 0.9166\n",
            "Epoch 5/30\n",
            "149/149 [==============================] - 32s 206ms/step - loss: 0.0338 - accuracy: 0.9345 - val_loss: 0.2192 - val_accuracy: 0.9360\n",
            "Epoch 6/30\n",
            "149/149 [==============================] - 33s 208ms/step - loss: 0.0263 - accuracy: 0.9429 - val_loss: 0.2616 - val_accuracy: 0.9419\n",
            "Epoch 7/30\n",
            "149/149 [==============================] - 33s 208ms/step - loss: 0.0278 - accuracy: 0.9406 - val_loss: 0.1617 - val_accuracy: 0.9511\n",
            "Epoch 8/30\n",
            "149/149 [==============================] - 32s 209ms/step - loss: 0.0233 - accuracy: 0.9469 - val_loss: 0.3013 - val_accuracy: 0.9225\n",
            "Epoch 9/30\n",
            "149/149 [==============================] - 33s 210ms/step - loss: 0.0242 - accuracy: 0.9568 - val_loss: 0.2370 - val_accuracy: 0.9461\n",
            "Epoch 10/30\n",
            "149/149 [==============================] - 33s 210ms/step - loss: 0.0188 - accuracy: 0.9634 - val_loss: 0.2281 - val_accuracy: 0.9385\n",
            "Epoch 11/30\n",
            "149/149 [==============================] - 32s 207ms/step - loss: 0.0162 - accuracy: 0.9711 - val_loss: 0.1161 - val_accuracy: 0.9663\n",
            "Epoch 12/30\n",
            "149/149 [==============================] - 33s 210ms/step - loss: 0.0154 - accuracy: 0.9703 - val_loss: 0.1655 - val_accuracy: 0.9402\n",
            "Epoch 13/30\n",
            "149/149 [==============================] - 32s 208ms/step - loss: 0.0170 - accuracy: 0.9663 - val_loss: 0.2007 - val_accuracy: 0.9528\n",
            "Epoch 14/30\n",
            "149/149 [==============================] - 32s 208ms/step - loss: 0.0147 - accuracy: 0.9739 - val_loss: 0.1450 - val_accuracy: 0.9553\n",
            "Epoch 15/30\n",
            "149/149 [==============================] - 33s 210ms/step - loss: 0.0159 - accuracy: 0.9686 - val_loss: 0.1722 - val_accuracy: 0.9511\n",
            "Epoch 16/30\n",
            "149/149 [==============================] - 33s 211ms/step - loss: 0.0171 - accuracy: 0.9606 - val_loss: 0.1776 - val_accuracy: 0.9436\n",
            "Epoch 17/30\n",
            "149/149 [==============================] - 33s 210ms/step - loss: 0.0145 - accuracy: 0.9709 - val_loss: 0.3370 - val_accuracy: 0.9225\n",
            "Epoch 18/30\n",
            "149/149 [==============================] - 33s 211ms/step - loss: 0.0145 - accuracy: 0.9741 - val_loss: 0.1625 - val_accuracy: 0.9570\n",
            "Epoch 19/30\n",
            "149/149 [==============================] - 33s 211ms/step - loss: 0.0136 - accuracy: 0.9749 - val_loss: 0.1814 - val_accuracy: 0.9495\n",
            "Epoch 20/30\n",
            "149/149 [==============================] - 33s 209ms/step - loss: 0.0118 - accuracy: 0.9781 - val_loss: 0.2866 - val_accuracy: 0.9242\n",
            "Epoch 21/30\n",
            "149/149 [==============================] - 33s 211ms/step - loss: 0.0093 - accuracy: 0.9823 - val_loss: 0.2678 - val_accuracy: 0.9242\n",
            "Epoch 22/30\n",
            "149/149 [==============================] - 32s 208ms/step - loss: 0.0107 - accuracy: 0.9783 - val_loss: 0.1366 - val_accuracy: 0.9528\n",
            "Epoch 23/30\n",
            "149/149 [==============================] - 33s 209ms/step - loss: 0.0102 - accuracy: 0.9821 - val_loss: 0.1262 - val_accuracy: 0.9562\n",
            "Epoch 24/30\n",
            "149/149 [==============================] - 33s 210ms/step - loss: 0.0120 - accuracy: 0.9796 - val_loss: 0.2349 - val_accuracy: 0.9402\n",
            "Epoch 25/30\n",
            "149/149 [==============================] - 33s 209ms/step - loss: 0.0097 - accuracy: 0.9817 - val_loss: 0.2082 - val_accuracy: 0.9410\n",
            "Epoch 26/30\n",
            "149/149 [==============================] - 33s 211ms/step - loss: 0.0116 - accuracy: 0.9781 - val_loss: 0.1591 - val_accuracy: 0.9461\n",
            "Epoch 27/30\n",
            "149/149 [==============================] - 33s 210ms/step - loss: 0.0105 - accuracy: 0.9819 - val_loss: 0.2051 - val_accuracy: 0.9511\n",
            "Epoch 28/30\n",
            "149/149 [==============================] - 33s 210ms/step - loss: 0.0110 - accuracy: 0.9810 - val_loss: 0.2149 - val_accuracy: 0.9478\n",
            "Epoch 29/30\n",
            "149/149 [==============================] - 33s 210ms/step - loss: 0.0068 - accuracy: 0.9855 - val_loss: 0.2694 - val_accuracy: 0.9427\n",
            "Epoch 30/30\n",
            "149/149 [==============================] - 33s 212ms/step - loss: 0.0077 - accuracy: 0.9844 - val_loss: 0.3467 - val_accuracy: 0.9217\n"
          ]
        }
      ]
    },
    {
      "cell_type": "markdown",
      "source": [
        "Visualize the architecture."
      ],
      "metadata": {
        "id": "gTYlErK4PRJ_"
      }
    },
    {
      "cell_type": "code",
      "source": [
        "color_map = defaultdict(dict)\n",
        "\n",
        "# Assign the same color to all the preprocessing steps\n",
        "color_map[Rescaling][\"fill\"] = \"#3785CD\"\n",
        "color_map[RandomFlip][\"fill\"] = \"#3785CD\"\n",
        "color_map[RandomRotation][\"fill\"] = \"#3785CD\"\n",
        "color_map[RandomContrast][\"fill\"] = \"#3785CD\"\n",
        "color_map[RandomZoom][\"fill\"] = \"#3785CD\"\n",
        "color_map[Lambda][\"fill\"] = \"#3785CD\"\n",
        "\n",
        "\n",
        "color_map[AveragePooling2D][\"fill\"] = \"#25bdf0\"\n",
        "color_map[Dense][\"fill\"] = \"#78ba41\"\n",
        "\n",
        "vk.layered_view(gionet,\n",
        "                legend=True,\n",
        "                scale_xy=2,\n",
        "                scale_z=.01,\n",
        "                type_ignore=[Rescaling, RandomFlip, RandomRotation, RandomContrast,\n",
        "                RandomZoom, Lambda],\n",
        "                color_map=color_map\n",
        "                )"
      ],
      "metadata": {
        "colab": {
          "base_uri": "https://localhost:8080/",
          "height": 352
        },
        "id": "uikTx7D1L1Ob",
        "outputId": "122226ef-7c36-426e-f477-e508853479e6"
      },
      "execution_count": null,
      "outputs": [
        {
          "output_type": "execute_result",
          "data": {
            "text/plain": [
              "<PIL.Image.Image image mode=RGBA size=561x335>"
            ],
            "image/png": "[encoded data removed]"
          },
          "metadata": {},
          "execution_count": 43
        }
      ]
    },
    {
      "cell_type": "markdown",
      "source": [
        "Visualize its performance."
      ],
      "metadata": {
        "id": "vfS4qyb7KmrU"
      }
    },
    {
      "cell_type": "code",
      "source": [
        "gionet_history = pd.read_csv(\"/content/drive/MyDrive/AMD/model_logs/gionet.log\")\n",
        "plot_history(gionet_history)"
      ],
      "metadata": {
        "colab": {
          "base_uri": "https://localhost:8080/",
          "height": 573
        },
        "id": "BN3GH9S4Kood",
        "outputId": "f53c8d44-235a-410c-a575-442e6b4178c6"
      },
      "execution_count": 27,
      "outputs": [
        {
          "output_type": "display_data",
          "data": {
            "text/plain": [
              "<Figure size 1200x600 with 2 Axes>"
            ],
            "image/png": "[encoded data removed]"
          },
          "metadata": {}
        }
      ]
    },
    {
      "cell_type": "markdown",
      "source": [
        "# 6 - Third Model: GioNetV2\n",
        "\n",
        "Novelty in initializer: https://keras.io/api/layers/initializers/"
      ],
      "metadata": {
        "id": "Pb6lEGuzKGD6"
      }
    },
    {
      "cell_type": "code",
      "source": [
        "gionetv2 = Sequential([\n",
        "\n",
        "    # A bit difference in the pre-processing steps\n",
        "    tf.keras.layers.Rescaling(1./255,\n",
        "                              input_shape=INPUT_SHAPE,\n",
        "                              name='rescaling'),\n",
        "    tf.keras.layers.RandomFlip(mode='horizontal_and_vertical',\n",
        "                               input_shape=INPUT_SHAPE,\n",
        "                               name='Random_Horizontal_And_Vertical_Flip'),\n",
        "    tf.keras.layers.RandomContrast(factor=0.2,\n",
        "                                   input_shape=INPUT_SHAPE,\n",
        "                                   name='Random_Contrast'),\n",
        "    tf.keras.layers.Lambda(function=tf.image.per_image_standardization,\n",
        "                           name='Per_image_standardisation'),\n",
        "\n",
        "    # 1st convolutional block\n",
        "    Conv2D(filters=32,\n",
        "           kernel_size=(7,7),\n",
        "           strides=(2,2),\n",
        "           padding='same',\n",
        "           activation=None,\n",
        "           kernel_initializer='he_normal',\n",
        "           name='Conv_1'),\n",
        "    BatchNormalization(name='BatchNormalization_1'),\n",
        "    ReLU(name='ReLU_1'),\n",
        "\n",
        "    #2nd Convolutional block\n",
        "    Conv2D(filters=64,\n",
        "           kernel_size=(5,5),\n",
        "           strides=(2,2),\n",
        "           padding='same',\n",
        "           activation=None,\n",
        "           kernel_initializer='he_normal',\n",
        "           name='Conv_2.1'),\n",
        "    BatchNormalization(name='BatchNormalization_2.1'),\n",
        "    ReLU(name='ReLU_2.1'),\n",
        "\n",
        "    Conv2D(filters=64,\n",
        "           kernel_size=(5,5),\n",
        "           strides=(2,2),\n",
        "           padding='same',\n",
        "           activation=None,\n",
        "           kernel_initializer='he_normal',\n",
        "           name='Conv_2.2'),\n",
        "    BatchNormalization(name='BatchNormalization_2.2'),\n",
        "    ReLU(name='ReLU_2.2'),\n",
        "\n",
        "    #3rd Convolutional block\n",
        "    Conv2D(filters=128,\n",
        "           kernel_size=(3,3),\n",
        "           strides=(2,2),\n",
        "           padding='same',\n",
        "           activation=None,\n",
        "           kernel_initializer='he_normal',\n",
        "           name='Conv_3.1'),\n",
        "    BatchNormalization(name='BatchNormalization_3.1'),\n",
        "    ReLU(name='ReLU_3.1'),\n",
        "\n",
        "    Conv2D(filters=128,\n",
        "           kernel_size=(3,3),\n",
        "           strides=(2,2),\n",
        "           padding='same',\n",
        "           activation=None,\n",
        "           kernel_initializer='he_normal',\n",
        "           name='Conv_3.2'),\n",
        "    BatchNormalization(name='BatchNormalization_3.2'),\n",
        "    ReLU(name='ReLU_3.2'),\n",
        "\n",
        "    # Flatten layer\n",
        "    Flatten(name='Flatten'),\n",
        "\n",
        "   # Final Dense layer\n",
        "    Dense(units=num_classes,\n",
        "          activation='softmax',\n",
        "          name='Output')\n",
        "\n",
        "], name='GioNetV2')"
      ],
      "metadata": {
        "id": "88yjLF43KJNi"
      },
      "execution_count": 79,
      "outputs": []
    },
    {
      "cell_type": "code",
      "source": [
        "gionetv2.build(input_shape=(None, *INPUT_SHAPE))\n",
        "gionetv2.summary()"
      ],
      "metadata": {
        "colab": {
          "base_uri": "https://localhost:8080/"
        },
        "id": "C5ah2P8aP-xQ",
        "outputId": "d6ea7279-9d92-4a1f-a94b-ab4c0f7bcaf9"
      },
      "execution_count": 80,
      "outputs": [
        {
          "output_type": "stream",
          "name": "stdout",
          "text": [
            "Model: \"GioNetV2\"\n",
            "_________________________________________________________________\n",
            " Layer (type)                Output Shape              Param #   \n",
            "=================================================================\n",
            " rescaling (Rescaling)       (None, 224, 224, 3)       0         \n",
            "                                                                 \n",
            " Random_Horizontal_And_Vert  (None, 224, 224, 3)       0         \n",
            " ical_Flip (RandomFlip)                                          \n",
            "                                                                 \n",
            " Random_Contrast (RandomCon  (None, 224, 224, 3)       0         \n",
            " trast)                                                          \n",
            "                                                                 \n",
            " Per_image_standardisation   (None, 224, 224, 3)       0         \n",
            " (Lambda)                                                        \n",
            "                                                                 \n",
            " Conv_1 (Conv2D)             (None, 112, 112, 32)      4736      \n",
            "                                                                 \n",
            " BatchNormalization_1 (Batc  (None, 112, 112, 32)      128       \n",
            " hNormalization)                                                 \n",
            "                                                                 \n",
            " ReLU_1 (ReLU)               (None, 112, 112, 32)      0         \n",
            "                                                                 \n",
            " Conv_2.1 (Conv2D)           (None, 56, 56, 64)        51264     \n",
            "                                                                 \n",
            " BatchNormalization_2.1 (Ba  (None, 56, 56, 64)        256       \n",
            " tchNormalization)                                               \n",
            "                                                                 \n",
            " ReLU_2.1 (ReLU)             (None, 56, 56, 64)        0         \n",
            "                                                                 \n",
            " Conv_2.2 (Conv2D)           (None, 28, 28, 64)        102464    \n",
            "                                                                 \n",
            " BatchNormalization_2.2 (Ba  (None, 28, 28, 64)        256       \n",
            " tchNormalization)                                               \n",
            "                                                                 \n",
            " ReLU_2.2 (ReLU)             (None, 28, 28, 64)        0         \n",
            "                                                                 \n",
            " Conv_3.1 (Conv2D)           (None, 14, 14, 128)       73856     \n",
            "                                                                 \n",
            " BatchNormalization_3.1 (Ba  (None, 14, 14, 128)       512       \n",
            " tchNormalization)                                               \n",
            "                                                                 \n",
            " ReLU_3.1 (ReLU)             (None, 14, 14, 128)       0         \n",
            "                                                                 \n",
            " Conv_3.2 (Conv2D)           (None, 7, 7, 128)         147584    \n",
            "                                                                 \n",
            " BatchNormalization_3.2 (Ba  (None, 7, 7, 128)         512       \n",
            " tchNormalization)                                               \n",
            "                                                                 \n",
            " ReLU_3.2 (ReLU)             (None, 7, 7, 128)         0         \n",
            "                                                                 \n",
            " Flatten (Flatten)           (None, 6272)              0         \n",
            "                                                                 \n",
            " Output (Dense)              (None, 4)                 25092     \n",
            "                                                                 \n",
            "=================================================================\n",
            "Total params: 406660 (1.55 MB)\n",
            "Trainable params: 405828 (1.55 MB)\n",
            "Non-trainable params: 832 (3.25 KB)\n",
            "_________________________________________________________________\n"
          ]
        }
      ]
    },
    {
      "cell_type": "markdown",
      "source": [
        "Compile the model."
      ],
      "metadata": {
        "id": "E1rXcB0EUVs9"
      }
    },
    {
      "cell_type": "code",
      "source": [
        "gionetv2.compile(loss=SparseCategoricalCrossentropy(),\n",
        "                 optimizer=Adam(),\n",
        "                 metrics=['accuracy'])"
      ],
      "metadata": {
        "id": "H0tQ5jEeUW-2"
      },
      "execution_count": 82,
      "outputs": []
    },
    {
      "cell_type": "markdown",
      "source": [
        "CSV logger in case it stops."
      ],
      "metadata": {
        "id": "R9CmA2DYUeZT"
      }
    },
    {
      "cell_type": "code",
      "source": [
        "gionetv2_csv_logger = CSVLogger(\"/content/drive/MyDrive/AMD/model_logs/gionetv2.log\")\n",
        "lr_scheduler = tf.keras.callbacks.LearningRateScheduler(scheduler)"
      ],
      "metadata": {
        "id": "wtwIEIfSUeZT"
      },
      "execution_count": 83,
      "outputs": []
    },
    {
      "cell_type": "markdown",
      "source": [
        "Train the model."
      ],
      "metadata": {
        "id": "o5B1K4SaUeZU"
      }
    },
    {
      "cell_type": "code",
      "source": [
        "gionetv2_history = gionetv2.fit(train_ds,\n",
        "                                epochs=30,\n",
        "                                steps_per_epoch=len(train_ds),\n",
        "                                validation_data=test_ds,\n",
        "                                validation_steps=len(test_ds),\n",
        "                                class_weight=class_weights,\n",
        "                                callbacks=[gionetv2_csv_logger, lr_scheduler])"
      ],
      "metadata": {
        "colab": {
          "base_uri": "https://localhost:8080/"
        },
        "outputId": "46765ebe-bde3-4898-e450-4c98ae0077b1",
        "id": "lE4woQp6UeZU"
      },
      "execution_count": 84,
      "outputs": [
        {
          "output_type": "stream",
          "name": "stdout",
          "text": [
            "Epoch 1/30\n",
            "149/149 [==============================] - 39s 211ms/step - loss: 0.0475 - accuracy: 0.9263 - val_loss: 1.3809 - val_accuracy: 0.7607 - lr: 0.0010\n",
            "Epoch 2/30\n",
            "149/149 [==============================] - 34s 218ms/step - loss: 0.0177 - accuracy: 0.9669 - val_loss: 1.1789 - val_accuracy: 0.8265 - lr: 0.0010\n",
            "Epoch 3/30\n",
            "149/149 [==============================] - 34s 218ms/step - loss: 0.0170 - accuracy: 0.9699 - val_loss: 0.6685 - val_accuracy: 0.8854 - lr: 0.0010\n",
            "Epoch 4/30\n",
            "149/149 [==============================] - 34s 216ms/step - loss: 0.0144 - accuracy: 0.9726 - val_loss: 6.5397 - val_accuracy: 0.6841 - lr: 0.0010\n",
            "Epoch 5/30\n",
            "149/149 [==============================] - 34s 219ms/step - loss: 0.0120 - accuracy: 0.9751 - val_loss: 0.3032 - val_accuracy: 0.9292 - lr: 0.0010\n",
            "Epoch 6/30\n",
            "149/149 [==============================] - 34s 220ms/step - loss: 0.0068 - accuracy: 0.9867 - val_loss: 0.2286 - val_accuracy: 0.9511 - lr: 0.0010\n",
            "Epoch 7/30\n",
            "149/149 [==============================] - 34s 215ms/step - loss: 0.0063 - accuracy: 0.9876 - val_loss: 0.3252 - val_accuracy: 0.9334 - lr: 0.0010\n",
            "Epoch 8/30\n",
            "149/149 [==============================] - 33s 215ms/step - loss: 0.0082 - accuracy: 0.9855 - val_loss: 0.0771 - val_accuracy: 0.9848 - lr: 0.0010\n",
            "Epoch 9/30\n",
            "149/149 [==============================] - 34s 217ms/step - loss: 0.0045 - accuracy: 0.9920 - val_loss: 0.0472 - val_accuracy: 0.9882 - lr: 0.0010\n",
            "Epoch 10/30\n",
            "149/149 [==============================] - 34s 221ms/step - loss: 0.0042 - accuracy: 0.9930 - val_loss: 0.9584 - val_accuracy: 0.8441 - lr: 0.0010\n",
            "Epoch 11/30\n",
            "149/149 [==============================] - 34s 217ms/step - loss: 0.0038 - accuracy: 0.9912 - val_loss: 0.0740 - val_accuracy: 0.9840 - lr: 9.5123e-04\n",
            "Epoch 12/30\n",
            "149/149 [==============================] - 34s 216ms/step - loss: 0.0058 - accuracy: 0.9874 - val_loss: 0.8101 - val_accuracy: 0.8585 - lr: 9.0484e-04\n",
            "Epoch 13/30\n",
            "149/149 [==============================] - 34s 219ms/step - loss: 0.0054 - accuracy: 0.9869 - val_loss: 0.0637 - val_accuracy: 0.9823 - lr: 8.6071e-04\n",
            "Epoch 14/30\n",
            "149/149 [==============================] - 33s 214ms/step - loss: 0.0029 - accuracy: 0.9939 - val_loss: 0.0423 - val_accuracy: 0.9882 - lr: 8.1873e-04\n",
            "Epoch 15/30\n",
            "149/149 [==============================] - 34s 218ms/step - loss: 0.0015 - accuracy: 0.9962 - val_loss: 0.0421 - val_accuracy: 0.9907 - lr: 7.7880e-04\n",
            "Epoch 16/30\n",
            "149/149 [==============================] - 34s 218ms/step - loss: 0.0018 - accuracy: 0.9956 - val_loss: 0.0318 - val_accuracy: 0.9907 - lr: 7.4082e-04\n",
            "Epoch 17/30\n",
            "149/149 [==============================] - 34s 216ms/step - loss: 0.0030 - accuracy: 0.9954 - val_loss: 0.1692 - val_accuracy: 0.9705 - lr: 7.0469e-04\n",
            "Epoch 18/30\n",
            "149/149 [==============================] - 33s 215ms/step - loss: 0.0039 - accuracy: 0.9920 - val_loss: 0.2055 - val_accuracy: 0.9612 - lr: 6.7032e-04\n",
            "Epoch 19/30\n",
            "149/149 [==============================] - 34s 215ms/step - loss: 0.0022 - accuracy: 0.9947 - val_loss: 0.0576 - val_accuracy: 0.9890 - lr: 6.3763e-04\n",
            "Epoch 20/30\n",
            "149/149 [==============================] - 34s 218ms/step - loss: 7.6171e-04 - accuracy: 0.9979 - val_loss: 0.0402 - val_accuracy: 0.9924 - lr: 6.0653e-04\n",
            "Epoch 21/30\n",
            "149/149 [==============================] - 34s 218ms/step - loss: 6.4729e-04 - accuracy: 0.9979 - val_loss: 0.1043 - val_accuracy: 0.9832 - lr: 5.7695e-04\n",
            "Epoch 22/30\n",
            "149/149 [==============================] - 34s 217ms/step - loss: 3.7113e-04 - accuracy: 0.9994 - val_loss: 0.0452 - val_accuracy: 0.9924 - lr: 5.4881e-04\n",
            "Epoch 23/30\n",
            "149/149 [==============================] - 34s 218ms/step - loss: 9.3080e-04 - accuracy: 0.9977 - val_loss: 0.0554 - val_accuracy: 0.9907 - lr: 5.2205e-04\n",
            "Epoch 24/30\n",
            "149/149 [==============================] - 34s 217ms/step - loss: 6.9309e-04 - accuracy: 0.9981 - val_loss: 0.0453 - val_accuracy: 0.9916 - lr: 4.9659e-04\n",
            "Epoch 25/30\n",
            "149/149 [==============================] - 34s 218ms/step - loss: 2.5322e-04 - accuracy: 0.9994 - val_loss: 0.0450 - val_accuracy: 0.9933 - lr: 4.7237e-04\n",
            "Epoch 26/30\n",
            "149/149 [==============================] - 34s 216ms/step - loss: 4.4306e-04 - accuracy: 0.9989 - val_loss: 0.0426 - val_accuracy: 0.9941 - lr: 4.4933e-04\n",
            "Epoch 27/30\n",
            "149/149 [==============================] - 34s 218ms/step - loss: 7.2393e-04 - accuracy: 0.9981 - val_loss: 0.0407 - val_accuracy: 0.9933 - lr: 4.2742e-04\n",
            "Epoch 28/30\n",
            "149/149 [==============================] - 34s 217ms/step - loss: 1.7423e-04 - accuracy: 0.9998 - val_loss: 0.0379 - val_accuracy: 0.9933 - lr: 4.0657e-04\n",
            "Epoch 29/30\n",
            "149/149 [==============================] - 34s 218ms/step - loss: 1.3388e-04 - accuracy: 0.9998 - val_loss: 0.0413 - val_accuracy: 0.9933 - lr: 3.8674e-04\n",
            "Epoch 30/30\n",
            "149/149 [==============================] - 34s 221ms/step - loss: 6.1305e-04 - accuracy: 0.9985 - val_loss: 0.0432 - val_accuracy: 0.9933 - lr: 3.6788e-04\n"
          ]
        }
      ]
    },
    {
      "cell_type": "markdown",
      "source": [
        "Visualize the architecture."
      ],
      "metadata": {
        "id": "GMGBY64vWOQf"
      }
    },
    {
      "cell_type": "code",
      "source": [
        "color_map = defaultdict(dict)\n",
        "\n",
        "# Assign the same color to all the preprocessing steps\n",
        "color_map[Rescaling][\"fill\"] = \"#3785CD\"\n",
        "color_map[RandomFlip][\"fill\"] = \"#3785CD\"\n",
        "color_map[RandomRotation][\"fill\"] = \"#3785CD\"\n",
        "color_map[RandomContrast][\"fill\"] = \"#3785CD\"\n",
        "color_map[RandomZoom][\"fill\"] = \"#3785CD\"\n",
        "color_map[Lambda][\"fill\"] = \"#3785CD\"\n",
        "\n",
        "\n",
        "color_map[AveragePooling2D][\"fill\"] = \"#25bdf0\"\n",
        "color_map[Dense][\"fill\"] = \"#78ba41\"\n",
        "\n",
        "vk.layered_view(gionetv2,\n",
        "                legend=True,\n",
        "                scale_xy=2,\n",
        "                scale_z=.01,\n",
        "                type_ignore=[Rescaling, RandomFlip, RandomRotation, RandomContrast,\n",
        "                RandomZoom, Lambda],\n",
        "                color_map=color_map\n",
        "                )"
      ],
      "metadata": {
        "colab": {
          "base_uri": "https://localhost:8080/",
          "height": 352
        },
        "id": "XWjQx83vWQ3u",
        "outputId": "dea4413e-8bc4-472a-d2b4-f6a7569613d2"
      },
      "execution_count": 85,
      "outputs": [
        {
          "output_type": "execute_result",
          "data": {
            "text/plain": [
              "<PIL.Image.Image image mode=RGBA size=604x335>"
            ],
            "image/png": "[encoded data removed]"
          },
          "metadata": {},
          "execution_count": 85
        }
      ]
    },
    {
      "cell_type": "markdown",
      "source": [
        "Visualize its performance."
      ],
      "metadata": {
        "id": "KCvEvKG_WVrP"
      }
    },
    {
      "cell_type": "code",
      "source": [
        "gionetv2_history = pd.read_csv(\"/content/drive/MyDrive/AMD/model_logs/gionetv2.log\")\n",
        "plot_history(gionetv2_history)"
      ],
      "metadata": {
        "colab": {
          "base_uri": "https://localhost:8080/",
          "height": 573
        },
        "id": "PQoLU0gyWYDz",
        "outputId": "439d3176-f347-4f84-b021-af88c00ab23f"
      },
      "execution_count": 86,
      "outputs": [
        {
          "output_type": "display_data",
          "data": {
            "text/plain": [
              "<Figure size 1200x600 with 2 Axes>"
            ],
            "image/png": "[encoded data removed]"
          },
          "metadata": {}
        }
      ]
    },
    {
      "cell_type": "markdown",
      "source": [
        "# Save the folders"
      ],
      "metadata": {
        "id": "qBn6tAjx39E7"
      }
    },
    {
      "cell_type": "code",
      "source": [
        "from google.colab import drive\n",
        "import shutil\n",
        "\n",
        "# Mount Google Drive\n",
        "drive.mount('/content/drive')\n",
        "\n",
        "# Define source and destination paths\n",
        "source_path = '/content/data'\n",
        "destination_path = '/content/drive/My Drive/AMD/data'\n",
        "\n",
        "# Copy the folder to Google Drive\n",
        "shutil.copytree(source_path, destination_path)\n"
      ],
      "metadata": {
        "colab": {
          "base_uri": "https://localhost:8080/",
          "height": 53
        },
        "id": "57W_ZcG2g6n6",
        "outputId": "198f9b5b-5d33-49f5-dcdb-fd373e362a14"
      },
      "execution_count": null,
      "outputs": [
        {
          "output_type": "stream",
          "name": "stdout",
          "text": [
            "Drive already mounted at /content/drive; to attempt to forcibly remount, call drive.mount(\"/content/drive\", force_remount=True).\n"
          ]
        },
        {
          "output_type": "execute_result",
          "data": {
            "text/plain": [
              "'/content/drive/My Drive/AMD/data'"
            ],
            "application/vnd.google.colaboratory.intrinsic+json": {
              "type": "string"
            }
          },
          "metadata": {},
          "execution_count": 40
        }
      ]
    }
  ]
}