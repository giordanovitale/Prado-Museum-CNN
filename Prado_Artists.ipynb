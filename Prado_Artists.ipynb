{
  "nbformat": 4,
  "nbformat_minor": 0,
  "metadata": {
    "colab": {
      "provenance": [],
      "collapsed_sections": [
        "o8R_We7Bjw9d",
        "L8kbFRoYj3BI"
      ],
      "authorship_tag": "ABX9TyMDjtzaKflzDTO51AvOkH+E",
      "include_colab_link": true
    },
    "kernelspec": {
      "name": "python3",
      "display_name": "Python 3"
    },
    "language_info": {
      "name": "python"
    }
  },
  "cells": [
    {
      "cell_type": "markdown",
      "metadata": {
        "id": "view-in-github",
        "colab_type": "text"
      },
      "source": [
        "<a href=\"https://colab.research.google.com/github/giordanovitale/Prado-Museum-CNN/blob/main/Prado_Artists.ipynb\" target=\"_parent\"><img src=\"https://colab.research.google.com/assets/colab-badge.svg\" alt=\"Open In Colab\"/></a>"
      ]
    },
    {
      "cell_type": "markdown",
      "source": [
        "\n",
        "\n",
        "1.   [Data Augmentation Techniques](https://medium.com/ymedialabs-innovation/data-augmentation-techniques-in-cnn-using-tensorflow-371ae43d5be9#8be0)\n",
        "2.   [Model Architectures](https://medium.com/@navarai/unveiling-the-diversity-a-comprehensive-guide-to-types-of-cnn-architectures-9d70da0b4521)\n",
        "3. [EfficientNet](https://towardsdatascience.com/complete-architectural-details-of-all-efficientnet-models-5fd5b736142)"
      ],
      "metadata": {
        "id": "WbjcyTneoQAe"
      }
    },
    {
      "cell_type": "markdown",
      "source": [
        "# 0 - Load the necessary libraries"
      ],
      "metadata": {
        "id": "o8R_We7Bjw9d"
      }
    },
    {
      "cell_type": "markdown",
      "source": [
        "Dataset Source: https://www.kaggle.com/datasets/maparla/prado-museum-pictures"
      ],
      "metadata": {
        "id": "wzU4x8i_tk_g"
      }
    },
    {
      "cell_type": "code",
      "source": [
        "pd.set_option('display.max_columns', None)"
      ],
      "metadata": {
        "id": "s5WYAVMWdBnn"
      },
      "execution_count": 147,
      "outputs": []
    },
    {
      "cell_type": "code",
      "execution_count": 135,
      "metadata": {
        "id": "7FrmpviCjilL"
      },
      "outputs": [],
      "source": [
        "import pandas as pd\n",
        "import numpy as np\n",
        "import seaborn as sns\n",
        "import tensorflow as tf\n",
        "\n",
        "import os\n",
        "import requests\n",
        "\n",
        "from multiprocessing import cpu_count\n",
        "from multiprocessing.pool import ThreadPool\n",
        "# import visualkeras as vk\n",
        "\n",
        "from scipy.optimize import fsolve\n",
        "from math import exp\n",
        "import matplotlib.pyplot as plt\n",
        "\n",
        "from collections import defaultdict\n",
        "\n",
        "from google.colab import userdata\n",
        "\n",
        "import keras.backend as K\n",
        "from keras.layers import Layer\n",
        "from tensorflow.keras import Sequential, Model\n",
        "from tensorflow.keras.layers import Dense, Flatten, Conv2D, MaxPooling2D, \\\n",
        "    AveragePooling2D, BatchNormalization, ReLU, PReLU, ZeroPadding2D, \\\n",
        "    GlobalAveragePooling2D, Input, DepthwiseConv2D, Add, Activation, Lambda, RandomFlip\n",
        "from tensorflow.keras.optimizers import Adam\n",
        "from tensorflow.keras.losses import SparseCategoricalCrossentropy\n",
        "from tensorflow.keras.callbacks import CSVLogger\n",
        "from tensorflow.keras.applications.resnet_v2 import ResNet50V2\n",
        "from tensorflow.keras.applications.resnet_v2 import preprocess_input as resnet_v2_preproccessing\n",
        "from tensorflow.keras.applications.efficientnet_v2 import preprocess_input as efficientnet_preproccessing\n",
        "from tensorflow.keras.applications.efficientnet_v2 import EfficientNetV2B3\n",
        "from tensorflow.keras.applications.vgg19 import VGG19\n",
        "from tensorflow.keras.applications.vgg19 import preprocess_input as vgg_preproccessing\n",
        "from tensorflow.keras.applications.mobilenet_v2 import MobileNetV2\n",
        "from tensorflow.keras.applications.mobilenet_v2 import preprocess_input as mobilenet_preprocessing"
      ]
    },
    {
      "cell_type": "markdown",
      "source": [
        "# 1 - Helper Functions"
      ],
      "metadata": {
        "id": "L8kbFRoYj3BI"
      }
    },
    {
      "cell_type": "code",
      "source": [
        "def download_url(args):\n",
        "    \"\"\"\n",
        "    Downloads a file from an url\n",
        "    :param args: Tuple containing the url and filename\n",
        "    :return: None\n",
        "    \"\"\"\n",
        "    url, filename = args[0], args[1]\n",
        "    try:\n",
        "      r = requests.get(url)\n",
        "      if r.status_code != 404:\n",
        "        with open(filename, \"wb\") as f:\n",
        "          f.write(r.content)\n",
        "\n",
        "    except Exception as e:\n",
        "      print(\"Exception in download_url():\", e)"
      ],
      "metadata": {
        "id": "OYyBBIO-jvgM"
      },
      "execution_count": 114,
      "outputs": []
    },
    {
      "cell_type": "code",
      "source": [
        "def download_parallel(args):\n",
        "    \"\"\"\n",
        "    Downloads urls in parallel\n",
        "    :param args: List of tuples containing the url and filename\n",
        "    :return: None\n",
        "    \"\"\"\n",
        "    cpus = cpu_count()\n",
        "    threadpool = ThreadPool(cpus)\n",
        "    results = threadpool.imap_unordered(download_url, args)\n",
        "    threadpool.close()\n",
        "    threadpool.join()"
      ],
      "metadata": {
        "id": "6lOeid62TQSE"
      },
      "execution_count": 115,
      "outputs": []
    },
    {
      "cell_type": "markdown",
      "source": [
        "# 2 - Load the dataset using Kaggle API"
      ],
      "metadata": {
        "id": "MaMrNaJvoe2O"
      }
    },
    {
      "cell_type": "markdown",
      "source": [
        "My Username and Key have been secreted. Replace `userdata.get('KAGGLE_USERNAME')` and `userdata.get('KAGGLE_KEY')`with your username and key, respectively."
      ],
      "metadata": {
        "id": "wZrGs5uD2s0Q"
      }
    },
    {
      "cell_type": "code",
      "source": [
        "os.environ[\"KAGGLE_USERNAME\"] = \"userdata.get('KAGGLE_USERNAME')\"\n",
        "os.environ[\"KAGGLE_KEY\"] = \"userdata.get('KAGGLE_KEY')\"\n",
        "!kaggle datasets download maparla/prado-museum-pictures -f prado.csv\n",
        "!unzip prado.csv.zip"
      ],
      "metadata": {
        "colab": {
          "base_uri": "https://localhost:8080/"
        },
        "id": "WBj68-vEvZLa",
        "outputId": "37676a61-875e-4e20-db8e-a251290f1e11"
      },
      "execution_count": 137,
      "outputs": [
        {
          "output_type": "stream",
          "name": "stdout",
          "text": [
            "Exception in download_url(): [Errno 2] No such file or directory: 'data/pencil/de3a4954-9d91-4acf-948d-acd02a081c27.jpg'\n",
            "Dataset URL: https://www.kaggle.com/datasets/maparla/prado-museum-pictures\n",
            "License(s): MIT\n",
            "Downloading prado.csv.zip to /content\n",
            " 87% 16.0M/18.3M [00:00<00:00, 166MB/s]\n",
            "100% 18.3M/18.3M [00:00<00:00, 179MB/s]\n",
            "Archive:  prado.csv.zip\n",
            "  inflating: prado.csv               \n"
          ]
        }
      ]
    },
    {
      "cell_type": "markdown",
      "source": [
        "Create the dataframe from the unzipepd csv file."
      ],
      "metadata": {
        "id": "RZ4NWN4a26ui"
      }
    },
    {
      "cell_type": "code",
      "source": [
        "df = pd.read_csv(os.path.join(\"prado.csv\"))"
      ],
      "metadata": {
        "id": "FRAesYqqwHCr"
      },
      "execution_count": 140,
      "outputs": []
    },
    {
      "cell_type": "markdown",
      "source": [
        "Since no target class has been defined from the project assignment, I have to decide it. After a careful inspection of the columns, I found out that the more suitable ones are `author` and `technical_sheet_tecnica`. The latter seems more intriguing as it has more observations, thus being more suitable to big data algorithms."
      ],
      "metadata": {
        "id": "d60cuROa2-o1"
      }
    },
    {
      "cell_type": "code",
      "source": [
        "df['author'].value_counts()"
      ],
      "metadata": {
        "colab": {
          "base_uri": "https://localhost:8080/"
        },
        "id": "wKYs7m-XwOyB",
        "outputId": "f441ad4e-9d91-4c6f-f5dd-94acd095c2d1"
      },
      "execution_count": 141,
      "outputs": [
        {
          "output_type": "execute_result",
          "data": {
            "text/plain": [
              "author\n",
              "Anónimo                                                                       2698\n",
              "Goya y Lucientes, Francisco de                                                1080\n",
              "Bayeu y Subías, Francisco                                                      446\n",
              "Haes, Carlos de                                                                326\n",
              "Pizarro y Librado, Cecilio                                                     290\n",
              "                                                                              ... \n",
              "Malombra, Pietro                                                                 1\n",
              "Taller de Bellini, Giovanni                                                      1\n",
              "Mattioli, Ludovico -Dibujante- (Autor de la obra original: Cignani, Carlo)       1\n",
              "Ricci, Marco                                                                     1\n",
              "García, Sergio                                                                   1\n",
              "Name: count, Length: 2560, dtype: int64"
            ]
          },
          "metadata": {},
          "execution_count": 141
        }
      ]
    },
    {
      "cell_type": "code",
      "source": [
        "df['technical_sheet_tecnica'].value_counts().sort_values(ascending=False)[:10]"
      ],
      "metadata": {
        "colab": {
          "base_uri": "https://localhost:8080/"
        },
        "id": "ZD4-MW-bwPga",
        "outputId": "15f34df9-309d-4242-f7ef-e76c6c0bda4b"
      },
      "execution_count": 142,
      "outputs": [
        {
          "output_type": "stream",
          "name": "stdout",
          "text": [
            "Exception in download_url(): [Errno 2] No such file or directory: 'data/pencil/59825391-c4b9-4f84-8d6f-413fa045a3ea.jpg'\n"
          ]
        },
        {
          "output_type": "execute_result",
          "data": {
            "text/plain": [
              "technical_sheet_tecnica\n",
              "Óleo                    4156\n",
              "Acuñación               1118\n",
              "Esculpido                550\n",
              "Lápiz compuesto          476\n",
              "Clarión; Lápiz negro     396\n",
              "Albúmina                 395\n",
              "Sanguina                 372\n",
              "Lápiz                    259\n",
              "Lápiz negro              237\n",
              "Pluma; Tinta parda       214\n",
              "Name: count, dtype: int64"
            ]
          },
          "metadata": {},
          "execution_count": 142
        }
      ]
    },
    {
      "cell_type": "markdown",
      "source": [
        "Reduce the data set by keeping observations belonging to the 4 classes of interest only."
      ],
      "metadata": {
        "id": "RaNVQhcOcjAR"
      }
    },
    {
      "cell_type": "code",
      "source": [
        "df = df[df['technical_sheet_tecnica'].isin(['Óleo',\n",
        "                                            'Acuñación',\n",
        "                                            'Esculpido',\n",
        "                                            'Lápiz compuesto'])]"
      ],
      "metadata": {
        "id": "JjRARJodH5or"
      },
      "execution_count": 143,
      "outputs": []
    },
    {
      "cell_type": "code",
      "source": [
        "df.shape"
      ],
      "metadata": {
        "colab": {
          "base_uri": "https://localhost:8080/"
        },
        "id": "B467V520Iwcn",
        "outputId": "e4ea686c-b939-483e-9a0c-b783f5f49262"
      },
      "execution_count": 91,
      "outputs": [
        {
          "output_type": "execute_result",
          "data": {
            "text/plain": [
              "(6300, 31)"
            ]
          },
          "metadata": {},
          "execution_count": 91
        }
      ]
    },
    {
      "cell_type": "markdown",
      "source": [
        "In order to obtain the JPGs images, we need to start from the given URL column `work_image_url`."
      ],
      "metadata": {
        "id": "0iHqoZHs4btw"
      }
    },
    {
      "cell_type": "code",
      "source": [
        "df['work_id'] = df['work_image_url'].apply(lambda x: x.split('/')[-1])"
      ],
      "metadata": {
        "id": "bvORo-571oOX"
      },
      "execution_count": 144,
      "outputs": []
    },
    {
      "cell_type": "markdown",
      "source": [
        "Create the folders into which the images will be stored, according to their respective class."
      ],
      "metadata": {
        "id": "GO_mspTpBiTf"
      }
    },
    {
      "cell_type": "code",
      "source": [
        "df.head(3)"
      ],
      "metadata": {
        "colab": {
          "base_uri": "https://localhost:8080/",
          "height": 371
        },
        "id": "Yo3f16R0cz0-",
        "outputId": "81456895-d195-43b5-bb57-eac63998c270"
      },
      "execution_count": 148,
      "outputs": [
        {
          "output_type": "execute_result",
          "data": {
            "text/plain": [
              "                                            work_url  \\\n",
              "2  https://www.museodelprado.es/coleccion/obra-de...   \n",
              "3  https://www.museodelprado.es/coleccion/obra-de...   \n",
              "4  https://www.museodelprado.es/coleccion/obra-de...   \n",
              "\n",
              "                                      work_image_url  \\\n",
              "2  https://content3.cdnprado.net/imagenes/Documen...   \n",
              "3  https://content3.cdnprado.net/imagenes/Documen...   \n",
              "4  https://content3.cdnprado.net/imagenes/Documen...   \n",
              "\n",
              "                                     author  \\\n",
              "2                  Cronenburch, Adriaen van   \n",
              "3              González Velázquez, Zacarías   \n",
              "4  Obra copiada de Cano de la Peña, Eduardo   \n",
              "\n",
              "                                          author_bio  \\\n",
              "2  Schagen (Países Bajos), 1520 - Bergum (Países ...   \n",
              "3  Madrid, 1763 - Madrid, 1834\\n\\nZacarías Joaquí...   \n",
              "4  Madrid, 1823 - Sevilla, 1897\\n\\nSiendo niño se...   \n",
              "\n",
              "                                          author_url  \\\n",
              "2  https://www.museodelprado.es/coleccion/artista...   \n",
              "3  https://www.museodelprado.es/coleccion/artista...   \n",
              "4  https://www.museodelprado.es/coleccion/artista...   \n",
              "\n",
              "                              author_id  \\\n",
              "2  26861819-ff88-4fde-8a37-56db9e1c1ba4   \n",
              "3  a8c659ad-d887-4703-8af3-1832dfc88eb7   \n",
              "4  521b82d6-6848-4f7d-96dc-3b8f102dd8b5   \n",
              "\n",
              "                                     work_title  \\\n",
              "2                    Dama con una flor amarilla   \n",
              "3   Dos pescadores, uno con caña y otro sentado   \n",
              "4  Tintoretto pintando a su hija muerta (copia)   \n",
              "\n",
              "                                  work_subtitle                  work_exposed  \\\n",
              "2    Hacia  1567. Óleo sobre tabla, 107 x 79 cm                   No expuesto   \n",
              "3         1785. Óleo sobre lienzo, 174 x 135 cm  Depósito en otra institución   \n",
              "4  Hacia  1856. Óleo sobre cartón, 19 x 24,5 cm                   No expuesto   \n",
              "\n",
              "                                    work_description  \\\n",
              "2  Esta obra, junto a sus compañeras (P02074, P02...   \n",
              "3  Forma parte de un conjunto de cartones para lo...   \n",
              "4  Marietta (1560-1590), hija mayor del pintor Ja...   \n",
              "\n",
              "                                           work_tags  \\\n",
              "2  Óleo;Tabla;Retrato civil;Caléndula / Maravilla...   \n",
              "3  Óleo;Lienzo;Pescador/es;Peces;1785;González Ve...   \n",
              "4  Óleo;Cartón;Escena mortuoria;Retrato de artist...   \n",
              "\n",
              "  technical_sheet_numero_de_catalogo  \\\n",
              "2                            P002073   \n",
              "3                            P003823   \n",
              "4                            P007968   \n",
              "\n",
              "                      technical_sheet_autor  \\\n",
              "2                  Cronenburch, Adriaen van   \n",
              "3              González Velázquez, Zacarías   \n",
              "4  Obra copiada de Cano de la Peña, Eduardo   \n",
              "\n",
              "                         technical_sheet_titulo technical_sheet_fecha  \\\n",
              "2                    Dama con una flor amarilla           Hacia  1567   \n",
              "3   Dos pescadores, uno con caña y otro sentado                  1785   \n",
              "4  Tintoretto pintando a su hija muerta (copia)           Hacia  1856   \n",
              "\n",
              "  technical_sheet_tecnica technical_sheet_soporte  \\\n",
              "2                    Óleo                   Tabla   \n",
              "3                    Óleo                  Lienzo   \n",
              "4                    Óleo                  Cartón   \n",
              "\n",
              "              technical_sheet_dimension technical_sheet_serie  \\\n",
              "2   Alto: 107 cm;\\n\\n\\n\\n\\nAncho: 79 cm                   NaN   \n",
              "3  Alto: 174 cm;\\n\\n\\n\\n\\nAncho: 135 cm                   NaN   \n",
              "4  Alto: 19 cm;\\n\\n\\n\\n\\nAncho: 24,5 cm                   NaN   \n",
              "\n",
              "                         technical_sheet_procedencia  \\\n",
              "2  Colección Real (Palacio Real Nuevo, Madrid, pi...   \n",
              "3  Adquirido al autor con destino a la Real Fábri...   \n",
              "4  Colección de la familia Madrazo (Luis de Madra...   \n",
              "\n",
              "                                        bibliography  \\\n",
              "2  Madrazo, Pedro de,  Catálogo de los cuadros de...   \n",
              "3  Held, Jutta,  Die Genrebilder der Madrider Tep...   \n",
              "4  Navarro, Carlos G.,  Luis de Madrazo pensionad...   \n",
              "\n",
              "                                           inventory  \\\n",
              "2  Catálogo Museo del Prado, 1873-1907.\\nNúm. 130...   \n",
              "3  Inv. Cartones para Tapices.\\nNúm. 5710.\\n\\n571...   \n",
              "4  Inv. Nuevas Adquisiciones (iniciado en 1856).\\...   \n",
              "\n",
              "                                         expositions  \\\n",
              "2  Aaaa[\"a mas tres(dri)aes\", jeroglífico de \"Adr...   \n",
              "3  5710\\nManuscrito en color anaranjado.\\nAnverso...   \n",
              "4  Recuerdo de la esposicion, dedicado a D. Luis ...   \n",
              "\n",
              "                                           ubication  technical_sheet_autores  \\\n",
              "2  El retrato del Renacimiento\\n                 ...                      NaN   \n",
              "3   Madrid - Cuartel General del Ejército (Depósito)                      NaN   \n",
              "4                                          Caballete                      NaN   \n",
              "\n",
              "  technical_sheet_edicion_/_estado technical_sheet_materia  \\\n",
              "2                              NaN                     NaN   \n",
              "3                              NaN                     NaN   \n",
              "4                              NaN                     NaN   \n",
              "\n",
              "  technical_sheet_ceca technical_sheet_autora  \\\n",
              "2                  NaN                    NaN   \n",
              "3                  NaN                    NaN   \n",
              "4                  NaN                    NaN   \n",
              "\n",
              "  technical_sheet_lugar_de_produccion  \\\n",
              "2                                 NaN   \n",
              "3                                 NaN   \n",
              "4                                 NaN   \n",
              "\n",
              "                                    work_id  \n",
              "2  4a8bab74-ca91-450a-b5b7-39dd61e2d7f3.jpg  \n",
              "3  9af5b176-b4d3-4930-854b-5b5f252829f1.jpg  \n",
              "4  4c494f0a-d5ae-45ca-826b-59f4b5fd4398.jpg  "
            ],
            "text/html": [
              "\n",
              "  <div id=\"df-c9c443db-f32f-48db-8d47-31eff35ed5d5\" class=\"colab-df-container\">\n",
              "    <div>\n",
              "<style scoped>\n",
              "    .dataframe tbody tr th:only-of-type {\n",
              "        vertical-align: middle;\n",
              "    }\n",
              "\n",
              "    .dataframe tbody tr th {\n",
              "        vertical-align: top;\n",
              "    }\n",
              "\n",
              "    .dataframe thead th {\n",
              "        text-align: right;\n",
              "    }\n",
              "</style>\n",
              "<table border=\"1\" class=\"dataframe\">\n",
              "  <thead>\n",
              "    <tr style=\"text-align: right;\">\n",
              "      <th></th>\n",
              "      <th>work_url</th>\n",
              "      <th>work_image_url</th>\n",
              "      <th>author</th>\n",
              "      <th>author_bio</th>\n",
              "      <th>author_url</th>\n",
              "      <th>author_id</th>\n",
              "      <th>work_title</th>\n",
              "      <th>work_subtitle</th>\n",
              "      <th>work_exposed</th>\n",
              "      <th>work_description</th>\n",
              "      <th>work_tags</th>\n",
              "      <th>technical_sheet_numero_de_catalogo</th>\n",
              "      <th>technical_sheet_autor</th>\n",
              "      <th>technical_sheet_titulo</th>\n",
              "      <th>technical_sheet_fecha</th>\n",
              "      <th>technical_sheet_tecnica</th>\n",
              "      <th>technical_sheet_soporte</th>\n",
              "      <th>technical_sheet_dimension</th>\n",
              "      <th>technical_sheet_serie</th>\n",
              "      <th>technical_sheet_procedencia</th>\n",
              "      <th>bibliography</th>\n",
              "      <th>inventory</th>\n",
              "      <th>expositions</th>\n",
              "      <th>ubication</th>\n",
              "      <th>technical_sheet_autores</th>\n",
              "      <th>technical_sheet_edicion_/_estado</th>\n",
              "      <th>technical_sheet_materia</th>\n",
              "      <th>technical_sheet_ceca</th>\n",
              "      <th>technical_sheet_autora</th>\n",
              "      <th>technical_sheet_lugar_de_produccion</th>\n",
              "      <th>work_id</th>\n",
              "    </tr>\n",
              "  </thead>\n",
              "  <tbody>\n",
              "    <tr>\n",
              "      <th>2</th>\n",
              "      <td>https://www.museodelprado.es/coleccion/obra-de...</td>\n",
              "      <td>https://content3.cdnprado.net/imagenes/Documen...</td>\n",
              "      <td>Cronenburch, Adriaen van</td>\n",
              "      <td>Schagen (Países Bajos), 1520 - Bergum (Países ...</td>\n",
              "      <td>https://www.museodelprado.es/coleccion/artista...</td>\n",
              "      <td>26861819-ff88-4fde-8a37-56db9e1c1ba4</td>\n",
              "      <td>Dama con una flor amarilla</td>\n",
              "      <td>Hacia  1567. Óleo sobre tabla, 107 x 79 cm</td>\n",
              "      <td>No expuesto</td>\n",
              "      <td>Esta obra, junto a sus compañeras (P02074, P02...</td>\n",
              "      <td>Óleo;Tabla;Retrato civil;Caléndula / Maravilla...</td>\n",
              "      <td>P002073</td>\n",
              "      <td>Cronenburch, Adriaen van</td>\n",
              "      <td>Dama con una flor amarilla</td>\n",
              "      <td>Hacia  1567</td>\n",
              "      <td>Óleo</td>\n",
              "      <td>Tabla</td>\n",
              "      <td>Alto: 107 cm;\\n\\n\\n\\n\\nAncho: 79 cm</td>\n",
              "      <td>NaN</td>\n",
              "      <td>Colección Real (Palacio Real Nuevo, Madrid, pi...</td>\n",
              "      <td>Madrazo, Pedro de,  Catálogo de los cuadros de...</td>\n",
              "      <td>Catálogo Museo del Prado, 1873-1907.\\nNúm. 130...</td>\n",
              "      <td>Aaaa[\"a mas tres(dri)aes\", jeroglífico de \"Adr...</td>\n",
              "      <td>El retrato del Renacimiento\\n                 ...</td>\n",
              "      <td>NaN</td>\n",
              "      <td>NaN</td>\n",
              "      <td>NaN</td>\n",
              "      <td>NaN</td>\n",
              "      <td>NaN</td>\n",
              "      <td>NaN</td>\n",
              "      <td>4a8bab74-ca91-450a-b5b7-39dd61e2d7f3.jpg</td>\n",
              "    </tr>\n",
              "    <tr>\n",
              "      <th>3</th>\n",
              "      <td>https://www.museodelprado.es/coleccion/obra-de...</td>\n",
              "      <td>https://content3.cdnprado.net/imagenes/Documen...</td>\n",
              "      <td>González Velázquez, Zacarías</td>\n",
              "      <td>Madrid, 1763 - Madrid, 1834\\n\\nZacarías Joaquí...</td>\n",
              "      <td>https://www.museodelprado.es/coleccion/artista...</td>\n",
              "      <td>a8c659ad-d887-4703-8af3-1832dfc88eb7</td>\n",
              "      <td>Dos pescadores, uno con caña y otro sentado</td>\n",
              "      <td>1785. Óleo sobre lienzo, 174 x 135 cm</td>\n",
              "      <td>Depósito en otra institución</td>\n",
              "      <td>Forma parte de un conjunto de cartones para lo...</td>\n",
              "      <td>Óleo;Lienzo;Pescador/es;Peces;1785;González Ve...</td>\n",
              "      <td>P003823</td>\n",
              "      <td>González Velázquez, Zacarías</td>\n",
              "      <td>Dos pescadores, uno con caña y otro sentado</td>\n",
              "      <td>1785</td>\n",
              "      <td>Óleo</td>\n",
              "      <td>Lienzo</td>\n",
              "      <td>Alto: 174 cm;\\n\\n\\n\\n\\nAncho: 135 cm</td>\n",
              "      <td>NaN</td>\n",
              "      <td>Adquirido al autor con destino a la Real Fábri...</td>\n",
              "      <td>Held, Jutta,  Die Genrebilder der Madrider Tep...</td>\n",
              "      <td>Inv. Cartones para Tapices.\\nNúm. 5710.\\n\\n571...</td>\n",
              "      <td>5710\\nManuscrito en color anaranjado.\\nAnverso...</td>\n",
              "      <td>Madrid - Cuartel General del Ejército (Depósito)</td>\n",
              "      <td>NaN</td>\n",
              "      <td>NaN</td>\n",
              "      <td>NaN</td>\n",
              "      <td>NaN</td>\n",
              "      <td>NaN</td>\n",
              "      <td>NaN</td>\n",
              "      <td>9af5b176-b4d3-4930-854b-5b5f252829f1.jpg</td>\n",
              "    </tr>\n",
              "    <tr>\n",
              "      <th>4</th>\n",
              "      <td>https://www.museodelprado.es/coleccion/obra-de...</td>\n",
              "      <td>https://content3.cdnprado.net/imagenes/Documen...</td>\n",
              "      <td>Obra copiada de Cano de la Peña, Eduardo</td>\n",
              "      <td>Madrid, 1823 - Sevilla, 1897\\n\\nSiendo niño se...</td>\n",
              "      <td>https://www.museodelprado.es/coleccion/artista...</td>\n",
              "      <td>521b82d6-6848-4f7d-96dc-3b8f102dd8b5</td>\n",
              "      <td>Tintoretto pintando a su hija muerta (copia)</td>\n",
              "      <td>Hacia  1856. Óleo sobre cartón, 19 x 24,5 cm</td>\n",
              "      <td>No expuesto</td>\n",
              "      <td>Marietta (1560-1590), hija mayor del pintor Ja...</td>\n",
              "      <td>Óleo;Cartón;Escena mortuoria;Retrato de artist...</td>\n",
              "      <td>P007968</td>\n",
              "      <td>Obra copiada de Cano de la Peña, Eduardo</td>\n",
              "      <td>Tintoretto pintando a su hija muerta (copia)</td>\n",
              "      <td>Hacia  1856</td>\n",
              "      <td>Óleo</td>\n",
              "      <td>Cartón</td>\n",
              "      <td>Alto: 19 cm;\\n\\n\\n\\n\\nAncho: 24,5 cm</td>\n",
              "      <td>NaN</td>\n",
              "      <td>Colección de la familia Madrazo (Luis de Madra...</td>\n",
              "      <td>Navarro, Carlos G.,  Luis de Madrazo pensionad...</td>\n",
              "      <td>Inv. Nuevas Adquisiciones (iniciado en 1856).\\...</td>\n",
              "      <td>Recuerdo de la esposicion, dedicado a D. Luis ...</td>\n",
              "      <td>Caballete</td>\n",
              "      <td>NaN</td>\n",
              "      <td>NaN</td>\n",
              "      <td>NaN</td>\n",
              "      <td>NaN</td>\n",
              "      <td>NaN</td>\n",
              "      <td>NaN</td>\n",
              "      <td>4c494f0a-d5ae-45ca-826b-59f4b5fd4398.jpg</td>\n",
              "    </tr>\n",
              "  </tbody>\n",
              "</table>\n",
              "</div>\n",
              "    <div class=\"colab-df-buttons\">\n",
              "\n",
              "  <div class=\"colab-df-container\">\n",
              "    <button class=\"colab-df-convert\" onclick=\"convertToInteractive('df-c9c443db-f32f-48db-8d47-31eff35ed5d5')\"\n",
              "            title=\"Convert this dataframe to an interactive table.\"\n",
              "            style=\"display:none;\">\n",
              "\n",
              "  <svg xmlns=\"http://www.w3.org/2000/svg\" height=\"24px\" viewBox=\"0 -960 960 960\">\n",
              "    <path d=\"M120-120v-720h720v720H120Zm60-500h600v-160H180v160Zm220 220h160v-160H400v160Zm0 220h160v-160H400v160ZM180-400h160v-160H180v160Zm440 0h160v-160H620v160ZM180-180h160v-160H180v160Zm440 0h160v-160H620v160Z\"/>\n",
              "  </svg>\n",
              "    </button>\n",
              "\n",
              "  <style>\n",
              "    .colab-df-container {\n",
              "      display:flex;\n",
              "      gap: 12px;\n",
              "    }\n",
              "\n",
              "    .colab-df-convert {\n",
              "      background-color: #E8F0FE;\n",
              "      border: none;\n",
              "      border-radius: 50%;\n",
              "      cursor: pointer;\n",
              "      display: none;\n",
              "      fill: #1967D2;\n",
              "      height: 32px;\n",
              "      padding: 0 0 0 0;\n",
              "      width: 32px;\n",
              "    }\n",
              "\n",
              "    .colab-df-convert:hover {\n",
              "      background-color: #E2EBFA;\n",
              "      box-shadow: 0px 1px 2px rgba(60, 64, 67, 0.3), 0px 1px 3px 1px rgba(60, 64, 67, 0.15);\n",
              "      fill: #174EA6;\n",
              "    }\n",
              "\n",
              "    .colab-df-buttons div {\n",
              "      margin-bottom: 4px;\n",
              "    }\n",
              "\n",
              "    [theme=dark] .colab-df-convert {\n",
              "      background-color: #3B4455;\n",
              "      fill: #D2E3FC;\n",
              "    }\n",
              "\n",
              "    [theme=dark] .colab-df-convert:hover {\n",
              "      background-color: #434B5C;\n",
              "      box-shadow: 0px 1px 3px 1px rgba(0, 0, 0, 0.15);\n",
              "      filter: drop-shadow(0px 1px 2px rgba(0, 0, 0, 0.3));\n",
              "      fill: #FFFFFF;\n",
              "    }\n",
              "  </style>\n",
              "\n",
              "    <script>\n",
              "      const buttonEl =\n",
              "        document.querySelector('#df-c9c443db-f32f-48db-8d47-31eff35ed5d5 button.colab-df-convert');\n",
              "      buttonEl.style.display =\n",
              "        google.colab.kernel.accessAllowed ? 'block' : 'none';\n",
              "\n",
              "      async function convertToInteractive(key) {\n",
              "        const element = document.querySelector('#df-c9c443db-f32f-48db-8d47-31eff35ed5d5');\n",
              "        const dataTable =\n",
              "          await google.colab.kernel.invokeFunction('convertToInteractive',\n",
              "                                                    [key], {});\n",
              "        if (!dataTable) return;\n",
              "\n",
              "        const docLinkHtml = 'Like what you see? Visit the ' +\n",
              "          '<a target=\"_blank\" href=https://colab.research.google.com/notebooks/data_table.ipynb>data table notebook</a>'\n",
              "          + ' to learn more about interactive tables.';\n",
              "        element.innerHTML = '';\n",
              "        dataTable['output_type'] = 'display_data';\n",
              "        await google.colab.output.renderOutput(dataTable, element);\n",
              "        const docLink = document.createElement('div');\n",
              "        docLink.innerHTML = docLinkHtml;\n",
              "        element.appendChild(docLink);\n",
              "      }\n",
              "    </script>\n",
              "  </div>\n",
              "\n",
              "\n",
              "<div id=\"df-dce21352-00bf-4062-8ce9-6f0ff6b3ecea\">\n",
              "  <button class=\"colab-df-quickchart\" onclick=\"quickchart('df-dce21352-00bf-4062-8ce9-6f0ff6b3ecea')\"\n",
              "            title=\"Suggest charts\"\n",
              "            style=\"display:none;\">\n",
              "\n",
              "<svg xmlns=\"http://www.w3.org/2000/svg\" height=\"24px\"viewBox=\"0 0 24 24\"\n",
              "     width=\"24px\">\n",
              "    <g>\n",
              "        <path d=\"M19 3H5c-1.1 0-2 .9-2 2v14c0 1.1.9 2 2 2h14c1.1 0 2-.9 2-2V5c0-1.1-.9-2-2-2zM9 17H7v-7h2v7zm4 0h-2V7h2v10zm4 0h-2v-4h2v4z\"/>\n",
              "    </g>\n",
              "</svg>\n",
              "  </button>\n",
              "\n",
              "<style>\n",
              "  .colab-df-quickchart {\n",
              "      --bg-color: #E8F0FE;\n",
              "      --fill-color: #1967D2;\n",
              "      --hover-bg-color: #E2EBFA;\n",
              "      --hover-fill-color: #174EA6;\n",
              "      --disabled-fill-color: #AAA;\n",
              "      --disabled-bg-color: #DDD;\n",
              "  }\n",
              "\n",
              "  [theme=dark] .colab-df-quickchart {\n",
              "      --bg-color: #3B4455;\n",
              "      --fill-color: #D2E3FC;\n",
              "      --hover-bg-color: #434B5C;\n",
              "      --hover-fill-color: #FFFFFF;\n",
              "      --disabled-bg-color: #3B4455;\n",
              "      --disabled-fill-color: #666;\n",
              "  }\n",
              "\n",
              "  .colab-df-quickchart {\n",
              "    background-color: var(--bg-color);\n",
              "    border: none;\n",
              "    border-radius: 50%;\n",
              "    cursor: pointer;\n",
              "    display: none;\n",
              "    fill: var(--fill-color);\n",
              "    height: 32px;\n",
              "    padding: 0;\n",
              "    width: 32px;\n",
              "  }\n",
              "\n",
              "  .colab-df-quickchart:hover {\n",
              "    background-color: var(--hover-bg-color);\n",
              "    box-shadow: 0 1px 2px rgba(60, 64, 67, 0.3), 0 1px 3px 1px rgba(60, 64, 67, 0.15);\n",
              "    fill: var(--button-hover-fill-color);\n",
              "  }\n",
              "\n",
              "  .colab-df-quickchart-complete:disabled,\n",
              "  .colab-df-quickchart-complete:disabled:hover {\n",
              "    background-color: var(--disabled-bg-color);\n",
              "    fill: var(--disabled-fill-color);\n",
              "    box-shadow: none;\n",
              "  }\n",
              "\n",
              "  .colab-df-spinner {\n",
              "    border: 2px solid var(--fill-color);\n",
              "    border-color: transparent;\n",
              "    border-bottom-color: var(--fill-color);\n",
              "    animation:\n",
              "      spin 1s steps(1) infinite;\n",
              "  }\n",
              "\n",
              "  @keyframes spin {\n",
              "    0% {\n",
              "      border-color: transparent;\n",
              "      border-bottom-color: var(--fill-color);\n",
              "      border-left-color: var(--fill-color);\n",
              "    }\n",
              "    20% {\n",
              "      border-color: transparent;\n",
              "      border-left-color: var(--fill-color);\n",
              "      border-top-color: var(--fill-color);\n",
              "    }\n",
              "    30% {\n",
              "      border-color: transparent;\n",
              "      border-left-color: var(--fill-color);\n",
              "      border-top-color: var(--fill-color);\n",
              "      border-right-color: var(--fill-color);\n",
              "    }\n",
              "    40% {\n",
              "      border-color: transparent;\n",
              "      border-right-color: var(--fill-color);\n",
              "      border-top-color: var(--fill-color);\n",
              "    }\n",
              "    60% {\n",
              "      border-color: transparent;\n",
              "      border-right-color: var(--fill-color);\n",
              "    }\n",
              "    80% {\n",
              "      border-color: transparent;\n",
              "      border-right-color: var(--fill-color);\n",
              "      border-bottom-color: var(--fill-color);\n",
              "    }\n",
              "    90% {\n",
              "      border-color: transparent;\n",
              "      border-bottom-color: var(--fill-color);\n",
              "    }\n",
              "  }\n",
              "</style>\n",
              "\n",
              "  <script>\n",
              "    async function quickchart(key) {\n",
              "      const quickchartButtonEl =\n",
              "        document.querySelector('#' + key + ' button');\n",
              "      quickchartButtonEl.disabled = true;  // To prevent multiple clicks.\n",
              "      quickchartButtonEl.classList.add('colab-df-spinner');\n",
              "      try {\n",
              "        const charts = await google.colab.kernel.invokeFunction(\n",
              "            'suggestCharts', [key], {});\n",
              "      } catch (error) {\n",
              "        console.error('Error during call to suggestCharts:', error);\n",
              "      }\n",
              "      quickchartButtonEl.classList.remove('colab-df-spinner');\n",
              "      quickchartButtonEl.classList.add('colab-df-quickchart-complete');\n",
              "    }\n",
              "    (() => {\n",
              "      let quickchartButtonEl =\n",
              "        document.querySelector('#df-dce21352-00bf-4062-8ce9-6f0ff6b3ecea button');\n",
              "      quickchartButtonEl.style.display =\n",
              "        google.colab.kernel.accessAllowed ? 'block' : 'none';\n",
              "    })();\n",
              "  </script>\n",
              "</div>\n",
              "    </div>\n",
              "  </div>\n"
            ],
            "application/vnd.google.colaboratory.intrinsic+json": {
              "type": "dataframe",
              "variable_name": "df"
            }
          },
          "metadata": {},
          "execution_count": 148
        }
      ]
    },
    {
      "cell_type": "code",
      "source": [
        "['work_image_url', 'work_id', 'technical_sheet_tecnica']"
      ],
      "metadata": {
        "id": "FC_ZTuARczzZ"
      },
      "execution_count": null,
      "outputs": []
    },
    {
      "cell_type": "code",
      "source": [],
      "metadata": {
        "id": "1i5NdKk6dNVq"
      },
      "execution_count": null,
      "outputs": []
    },
    {
      "cell_type": "code",
      "source": [],
      "metadata": {
        "id": "mJAjz_Hfczwj"
      },
      "execution_count": null,
      "outputs": []
    },
    {
      "cell_type": "code",
      "source": [
        "!mkdir data"
      ],
      "metadata": {
        "id": "NvXIGlFrRsRR"
      },
      "execution_count": 149,
      "outputs": []
    },
    {
      "cell_type": "code",
      "source": [
        "esp_technique = ['Óleo', 'Acuñación', 'Esculpido', 'Lápiz compuesto']\n",
        "eng_technique = ['oil', 'minting', 'sculpture', 'pencil']"
      ],
      "metadata": {
        "id": "0MzHBZFvTgpP"
      },
      "execution_count": 150,
      "outputs": []
    },
    {
      "cell_type": "code",
      "source": [
        "# rm -rf data"
      ],
      "metadata": {
        "id": "95J0G6lWUtRU"
      },
      "execution_count": 134,
      "outputs": []
    },
    {
      "cell_type": "code",
      "source": [
        "for technique in eng_technique:\n",
        "  !mkdir -p data/$technique"
      ],
      "metadata": {
        "id": "dUdTNYO1RzSa"
      },
      "execution_count": 151,
      "outputs": []
    },
    {
      "cell_type": "code",
      "source": [
        "img_data = requests.get(image_url).content\n",
        "with open('image_name.jpg', 'wb') as handler:\n",
        "    handler.write(img_data)"
      ],
      "metadata": {
        "id": "FH2a_T2_eYZZ"
      },
      "execution_count": null,
      "outputs": []
    },
    {
      "cell_type": "code",
      "source": [
        "import polars as pl\n",
        "df = pl.DataFrame(df)"
      ],
      "metadata": {
        "id": "BF5ZPrAEeEHL"
      },
      "execution_count": 152,
      "outputs": []
    },
    {
      "cell_type": "code",
      "source": [
        "df.head(2)"
      ],
      "metadata": {
        "colab": {
          "base_uri": "https://localhost:8080/",
          "height": 233
        },
        "id": "OTFKwXNIeqV3",
        "outputId": "d750cd06-d77b-47c3-c39c-fd0a1e746262"
      },
      "execution_count": 154,
      "outputs": [
        {
          "output_type": "execute_result",
          "data": {
            "text/plain": [
              "shape: (2, 31)\n",
              "┌───────────┬───────────┬───────────┬───────────┬───┬───────────┬───────────┬───────────┬──────────┐\n",
              "│ work_url  ┆ work_imag ┆ author    ┆ author_bi ┆ … ┆ technical ┆ technical ┆ technical ┆ work_id  │\n",
              "│ ---       ┆ e_url     ┆ ---       ┆ o         ┆   ┆ _sheet_ce ┆ _sheet_au ┆ _sheet_lu ┆ ---      │\n",
              "│ str       ┆ ---       ┆ str       ┆ ---       ┆   ┆ ca        ┆ tora      ┆ gar_de_pr ┆ str      │\n",
              "│           ┆ str       ┆           ┆ str       ┆   ┆ ---       ┆ ---       ┆ oducc…    ┆          │\n",
              "│           ┆           ┆           ┆           ┆   ┆ str       ┆ str       ┆ ---       ┆          │\n",
              "│           ┆           ┆           ┆           ┆   ┆           ┆           ┆ str       ┆          │\n",
              "╞═══════════╪═══════════╪═══════════╪═══════════╪═══╪═══════════╪═══════════╪═══════════╪══════════╡\n",
              "│ https://w ┆ https://c ┆ Cronenbur ┆ Schagen   ┆ … ┆ null      ┆ null      ┆ null      ┆ 4a8bab74 │\n",
              "│ ww.museod ┆ ontent3.c ┆ ch,       ┆ (Países   ┆   ┆           ┆           ┆           ┆ -ca91-45 │\n",
              "│ elprado.e ┆ dnprado.n ┆ Adriaen   ┆ Bajos),   ┆   ┆           ┆           ┆           ┆ 0a-b5b7- │\n",
              "│ s/col…    ┆ et/im…    ┆ van       ┆ 1520 - B… ┆   ┆           ┆           ┆           ┆ 39dd61e2 │\n",
              "│           ┆           ┆           ┆           ┆   ┆           ┆           ┆           ┆ …        │\n",
              "│ https://w ┆ https://c ┆ González  ┆ Madrid,   ┆ … ┆ null      ┆ null      ┆ null      ┆ 9af5b176 │\n",
              "│ ww.museod ┆ ontent3.c ┆ Velázquez ┆ 1763 -    ┆   ┆           ┆           ┆           ┆ -b4d3-49 │\n",
              "│ elprado.e ┆ dnprado.n ┆ ,         ┆ Madrid,   ┆   ┆           ┆           ┆           ┆ 30-854b- │\n",
              "│ s/col…    ┆ et/im…    ┆ Zacarías  ┆ 1834      ┆   ┆           ┆           ┆           ┆ 5b5f2528 │\n",
              "│           ┆           ┆           ┆           ┆   ┆           ┆           ┆           ┆ …        │\n",
              "│           ┆           ┆           ┆ Zac…      ┆   ┆           ┆           ┆           ┆          │\n",
              "└───────────┴───────────┴───────────┴───────────┴───┴───────────┴───────────┴───────────┴──────────┘"
            ],
            "text/html": [
              "<div><style>\n",
              ".dataframe > thead > tr,\n",
              ".dataframe > tbody > tr {\n",
              "  text-align: right;\n",
              "  white-space: pre-wrap;\n",
              "}\n",
              "</style>\n",
              "<small>shape: (2, 31)</small><table border=\"1\" class=\"dataframe\"><thead><tr><th>work_url</th><th>work_image_url</th><th>author</th><th>author_bio</th><th>author_url</th><th>author_id</th><th>work_title</th><th>work_subtitle</th><th>work_exposed</th><th>work_description</th><th>work_tags</th><th>technical_sheet_numero_de_catalogo</th><th>technical_sheet_autor</th><th>technical_sheet_titulo</th><th>technical_sheet_fecha</th><th>technical_sheet_tecnica</th><th>technical_sheet_soporte</th><th>technical_sheet_dimension</th><th>technical_sheet_serie</th><th>technical_sheet_procedencia</th><th>bibliography</th><th>inventory</th><th>expositions</th><th>ubication</th><th>technical_sheet_autores</th><th>technical_sheet_edicion_/_estado</th><th>technical_sheet_materia</th><th>technical_sheet_ceca</th><th>technical_sheet_autora</th><th>technical_sheet_lugar_de_produccion</th><th>work_id</th></tr><tr><td>str</td><td>str</td><td>str</td><td>str</td><td>str</td><td>str</td><td>str</td><td>str</td><td>str</td><td>str</td><td>str</td><td>str</td><td>str</td><td>str</td><td>str</td><td>str</td><td>str</td><td>str</td><td>str</td><td>str</td><td>str</td><td>str</td><td>str</td><td>str</td><td>f64</td><td>null</td><td>str</td><td>str</td><td>str</td><td>str</td><td>str</td></tr></thead><tbody><tr><td>&quot;https://www.mu…</td><td>&quot;https://conten…</td><td>&quot;Cronenburch, A…</td><td>&quot;Schagen (Paíse…</td><td>&quot;https://www.mu…</td><td>&quot;26861819-ff88-…</td><td>&quot;Dama con una f…</td><td>&quot;Hacia  1567. Ó…</td><td>&quot;No expuesto&quot;</td><td>&quot;Esta obra, jun…</td><td>&quot;Óleo;Tabla;Ret…</td><td>&quot;P002073&quot;</td><td>&quot;Cronenburch, A…</td><td>&quot;Dama con una f…</td><td>&quot;Hacia  1567&quot;</td><td>&quot;Óleo&quot;</td><td>&quot;Tabla&quot;</td><td>&quot;Alto: 107 cm;\n",
              "…</td><td>null</td><td>&quot;Colección Real…</td><td>&quot;Madrazo, Pedro…</td><td>&quot;Catálogo Museo…</td><td>&quot;Aaaa[&quot;a mas tr…</td><td>&quot;El retrato del…</td><td>null</td><td>null</td><td>null</td><td>null</td><td>null</td><td>null</td><td>&quot;4a8bab74-ca91-…</td></tr><tr><td>&quot;https://www.mu…</td><td>&quot;https://conten…</td><td>&quot;González Veláz…</td><td>&quot;Madrid, 1763 -…</td><td>&quot;https://www.mu…</td><td>&quot;a8c659ad-d887-…</td><td>&quot;Dos pescadores…</td><td>&quot;1785. Óleo sob…</td><td>&quot;Depósito en ot…</td><td>&quot;Forma parte de…</td><td>&quot;Óleo;Lienzo;Pe…</td><td>&quot;P003823&quot;</td><td>&quot;González Veláz…</td><td>&quot;Dos pescadores…</td><td>&quot;1785&quot;</td><td>&quot;Óleo&quot;</td><td>&quot;Lienzo&quot;</td><td>&quot;Alto: 174 cm;\n",
              "…</td><td>null</td><td>&quot;Adquirido al a…</td><td>&quot;Held, Jutta,  …</td><td>&quot;Inv. Cartones …</td><td>&quot;5710\n",
              "Manuscrit…</td><td>&quot;Madrid - Cuart…</td><td>null</td><td>null</td><td>null</td><td>null</td><td>null</td><td>null</td><td>&quot;9af5b176-b4d3-…</td></tr></tbody></table></div>"
            ]
          },
          "metadata": {},
          "execution_count": 154
        }
      ]
    },
    {
      "cell_type": "code",
      "source": [
        "import urllib"
      ],
      "metadata": {
        "id": "7dfP82qtio0Z"
      },
      "execution_count": 157,
      "outputs": []
    },
    {
      "cell_type": "code",
      "source": [
        "def download_jpg(url, file_path, image_name):\n",
        "  full_path = file_path + image_name\n",
        "  urllib.request.urlretrieve(url, full_path)"
      ],
      "metadata": {
        "id": "74TjyDY5ehYr"
      },
      "execution_count": 158,
      "outputs": []
    }
  ]
}