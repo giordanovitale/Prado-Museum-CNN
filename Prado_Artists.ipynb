{
  "nbformat": 4,
  "nbformat_minor": 0,
  "metadata": {
    "colab": {
      "provenance": [],
      "authorship_tag": "ABX9TyNhXOAHjdrR1JwdS9+xpnfP",
      "include_colab_link": true
    },
    "kernelspec": {
      "name": "python3",
      "display_name": "Python 3"
    },
    "language_info": {
      "name": "python"
    }
  },
  "cells": [
    {
      "cell_type": "markdown",
      "metadata": {
        "id": "view-in-github",
        "colab_type": "text"
      },
      "source": [
        "<a href=\"https://colab.research.google.com/github/giordanovitale/Prado-Museum-CNN/blob/main/Prado_Artists.ipynb\" target=\"_parent\"><img src=\"https://colab.research.google.com/assets/colab-badge.svg\" alt=\"Open In Colab\"/></a>"
      ]
    },
    {
      "cell_type": "markdown",
      "source": [
        "\n",
        "\n",
        "1.   [Data Augmentation Techniques](https://medium.com/ymedialabs-innovation/data-augmentation-techniques-in-cnn-using-tensorflow-371ae43d5be9#8be0)\n",
        "2.   [Model Architectures](https://medium.com/@navarai/unveiling-the-diversity-a-comprehensive-guide-to-types-of-cnn-architectures-9d70da0b4521)\n",
        "3. [EfficientNet](https://towardsdatascience.com/complete-architectural-details-of-all-efficientnet-models-5fd5b736142)"
      ],
      "metadata": {
        "id": "WbjcyTneoQAe"
      }
    },
    {
      "cell_type": "markdown",
      "source": [
        "# 0 - Load the necessary libraries"
      ],
      "metadata": {
        "id": "o8R_We7Bjw9d"
      }
    },
    {
      "cell_type": "markdown",
      "source": [
        "Dataset Source: https://www.kaggle.com/datasets/maparla/prado-museum-pictures"
      ],
      "metadata": {
        "id": "wzU4x8i_tk_g"
      }
    },
    {
      "cell_type": "code",
      "execution_count": 1,
      "metadata": {
        "id": "7FrmpviCjilL"
      },
      "outputs": [],
      "source": [
        "import pandas as pd\n",
        "import numpy as np\n",
        "import seaborn as sns\n",
        "import tensorflow as tf\n",
        "\n",
        "import os\n",
        "import requests\n",
        "\n",
        "from multiprocessing import cpu_count\n",
        "from multiprocessing.pool import ThreadPool\n",
        "# import visualkeras as vk\n",
        "\n",
        "from scipy.optimize import fsolve\n",
        "from math import exp\n",
        "import matplotlib.pyplot as plt\n",
        "\n",
        "from collections import defaultdict\n",
        "\n",
        "from google.colab import userdata\n",
        "\n",
        "import keras.backend as K\n",
        "from keras.layers import Layer\n",
        "from tensorflow.keras import Sequential, Model\n",
        "from tensorflow.keras.layers import Dense, Flatten, Conv2D, MaxPooling2D, \\\n",
        "    AveragePooling2D, BatchNormalization, ReLU, PReLU, ZeroPadding2D, \\\n",
        "    GlobalAveragePooling2D, Input, DepthwiseConv2D, Add, Activation, Lambda, RandomFlip\n",
        "from tensorflow.keras.optimizers import Adam\n",
        "from tensorflow.keras.losses import SparseCategoricalCrossentropy\n",
        "from tensorflow.keras.callbacks import CSVLogger\n",
        "from tensorflow.keras.applications.resnet_v2 import ResNet50V2\n",
        "from tensorflow.keras.applications.resnet_v2 import preprocess_input as resnet_v2_preproccessing\n",
        "from tensorflow.keras.applications.efficientnet_v2 import preprocess_input as efficientnet_preproccessing\n",
        "from tensorflow.keras.applications.efficientnet_v2 import EfficientNetV2B3\n",
        "from tensorflow.keras.applications.vgg19 import VGG19\n",
        "from tensorflow.keras.applications.vgg19 import preprocess_input as vgg_preproccessing\n",
        "from tensorflow.keras.applications.mobilenet_v2 import MobileNetV2\n",
        "from tensorflow.keras.applications.mobilenet_v2 import preprocess_input as mobilenet_preprocessing"
      ]
    },
    {
      "cell_type": "markdown",
      "source": [
        "# 1 - Helper Functions"
      ],
      "metadata": {
        "id": "L8kbFRoYj3BI"
      }
    },
    {
      "cell_type": "code",
      "source": [],
      "metadata": {
        "id": "OYyBBIO-jvgM"
      },
      "execution_count": null,
      "outputs": []
    },
    {
      "cell_type": "markdown",
      "source": [
        "# 2 - Load the dataset using Kaggle API"
      ],
      "metadata": {
        "id": "MaMrNaJvoe2O"
      }
    },
    {
      "cell_type": "markdown",
      "source": [
        "My Username and Key have been secreted. Replace `userdata.get('KAGGLE_USERNAME')` and `userdata.get('KAGGLE_KEY')`with your username and key, respectively."
      ],
      "metadata": {
        "id": "wZrGs5uD2s0Q"
      }
    },
    {
      "cell_type": "code",
      "source": [
        "os.environ[\"KAGGLE_USERNAME\"] = \"userdata.get('KAGGLE_USERNAME')\"\n",
        "os.environ[\"KAGGLE_KEY\"] = \"userdata.get('KAGGLE_KEY')\"\n",
        "!kaggle datasets download maparla/prado-museum-pictures -f prado.csv\n",
        "!unzip prado.csv.zip"
      ],
      "metadata": {
        "colab": {
          "base_uri": "https://localhost:8080/"
        },
        "id": "WBj68-vEvZLa",
        "outputId": "a39bb6de-bd7a-4807-e7d4-62ee0749c5a6"
      },
      "execution_count": 42,
      "outputs": [
        {
          "output_type": "stream",
          "name": "stdout",
          "text": [
            "Dataset URL: https://www.kaggle.com/datasets/maparla/prado-museum-pictures\n",
            "License(s): MIT\n",
            "Downloading prado.csv.zip to /content\n",
            " 49% 9.00M/18.3M [00:00<00:00, 40.1MB/s]\n",
            "100% 18.3M/18.3M [00:00<00:00, 66.1MB/s]\n",
            "Archive:  prado.csv.zip\n",
            "  inflating: prado.csv               \n"
          ]
        }
      ]
    },
    {
      "cell_type": "markdown",
      "source": [
        "Create the dataframe from the unzipepd csv file."
      ],
      "metadata": {
        "id": "RZ4NWN4a26ui"
      }
    },
    {
      "cell_type": "code",
      "source": [
        "df = pd.read_csv(os.path.join(\"prado.csv\"))"
      ],
      "metadata": {
        "id": "FRAesYqqwHCr"
      },
      "execution_count": 3,
      "outputs": []
    },
    {
      "cell_type": "markdown",
      "source": [
        "Since no target class has been defined from the project assignment, I have to decide it. After a careful inspection of the columns, I found out that the more suitable ones are `author` and `technical_sheet_tecnica`. The latter seems more intriguing as it has more observations, thus being more suitable to big data algorithms."
      ],
      "metadata": {
        "id": "d60cuROa2-o1"
      }
    },
    {
      "cell_type": "code",
      "source": [
        "df['author'].value_counts()"
      ],
      "metadata": {
        "colab": {
          "base_uri": "https://localhost:8080/"
        },
        "id": "wKYs7m-XwOyB",
        "outputId": "d2d0ce30-f86c-43c0-ea86-b027b6faa235"
      },
      "execution_count": 5,
      "outputs": [
        {
          "output_type": "execute_result",
          "data": {
            "text/plain": [
              "author\n",
              "Anónimo                                                                       2698\n",
              "Goya y Lucientes, Francisco de                                                1080\n",
              "Bayeu y Subías, Francisco                                                      446\n",
              "Haes, Carlos de                                                                326\n",
              "Pizarro y Librado, Cecilio                                                     290\n",
              "                                                                              ... \n",
              "Malombra, Pietro                                                                 1\n",
              "Taller de Bellini, Giovanni                                                      1\n",
              "Mattioli, Ludovico -Dibujante- (Autor de la obra original: Cignani, Carlo)       1\n",
              "Ricci, Marco                                                                     1\n",
              "García, Sergio                                                                   1\n",
              "Name: count, Length: 2560, dtype: int64"
            ]
          },
          "metadata": {},
          "execution_count": 5
        }
      ]
    },
    {
      "cell_type": "code",
      "source": [
        "df['technical_sheet_tecnica'].value_counts().sort_values(ascending=False)[:10]"
      ],
      "metadata": {
        "colab": {
          "base_uri": "https://localhost:8080/"
        },
        "id": "ZD4-MW-bwPga",
        "outputId": "acd4093c-417e-4019-aa8f-b47b04d4e9e3"
      },
      "execution_count": 37,
      "outputs": [
        {
          "output_type": "execute_result",
          "data": {
            "text/plain": [
              "technical_sheet_tecnica\n",
              "Óleo                    4156\n",
              "Acuñación               1118\n",
              "Esculpido                550\n",
              "Lápiz compuesto          476\n",
              "Clarión; Lápiz negro     396\n",
              "Albúmina                 395\n",
              "Sanguina                 372\n",
              "Lápiz                    259\n",
              "Lápiz negro              237\n",
              "Pluma; Tinta parda       214\n",
              "Name: count, dtype: int64"
            ]
          },
          "metadata": {},
          "execution_count": 37
        }
      ]
    },
    {
      "cell_type": "markdown",
      "source": [
        "In order to obtain the JPGs images, we need to start from the given URL column `work_image_url`."
      ],
      "metadata": {
        "id": "0iHqoZHs4btw"
      }
    },
    {
      "cell_type": "code",
      "source": [
        "df[\"work_id\"] = df[\"work_image_url\"].apply(lambda x: x.split(\"/\")[-1])"
      ],
      "metadata": {
        "id": "bvORo-571oOX"
      },
      "execution_count": 47,
      "outputs": []
    },
    {
      "cell_type": "code",
      "source": [
        "df['work_id']"
      ],
      "metadata": {
        "colab": {
          "base_uri": "https://localhost:8080/"
        },
        "id": "94ahob913hcG",
        "outputId": "19b5ee2b-bc9f-48a9-8a11-7fc3604312d1"
      },
      "execution_count": 48,
      "outputs": [
        {
          "output_type": "execute_result",
          "data": {
            "text/plain": [
              "0        404387d6-a52c-4477-b598-de2a2d5a3d55.jpg\n",
              "1        589ee4a3-28fa-4977-a84d-7326f5c9aeb3.jpg\n",
              "2        4a8bab74-ca91-450a-b5b7-39dd61e2d7f3.jpg\n",
              "3        9af5b176-b4d3-4930-854b-5b5f252829f1.jpg\n",
              "4        4c494f0a-d5ae-45ca-826b-59f4b5fd4398.jpg\n",
              "                           ...                   \n",
              "13482    c62f7f3e-3ad3-4d9e-9586-b0b389b2d032.jpg\n",
              "13483    6c28accf-e0c0-4bc0-b4c6-3fbb282bcbd8.jpg\n",
              "13484    b4126fb6-c5ac-40e3-89a1-d1578914c09b.jpg\n",
              "13485    e7bf2481-522c-4071-9d97-7908aca45831.jpg\n",
              "13486    e8d785a8-1407-4203-b837-2d01e82a36cb.jpg\n",
              "Name: work_id, Length: 13487, dtype: object"
            ]
          },
          "metadata": {},
          "execution_count": 48
        }
      ]
    },
    {
      "cell_type": "code",
      "source": [],
      "metadata": {
        "id": "lLaKT3G44HLy"
      },
      "execution_count": null,
      "outputs": []
    }
  ]
}